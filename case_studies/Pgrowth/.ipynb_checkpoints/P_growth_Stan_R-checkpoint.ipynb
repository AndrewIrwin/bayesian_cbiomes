{
 "cells": [
  {
   "cell_type": "markdown",
   "metadata": {},
   "source": [
    "## P Growth Example"
   ]
  },
  {
   "cell_type": "code",
   "execution_count": 6,
   "metadata": {},
   "outputs": [],
   "source": [
    "library(deSolve)\n",
    "library(rstan)\n",
    "options(mc.cores = parallel::detectCores())"
   ]
  },
  {
   "cell_type": "code",
   "execution_count": 7,
   "metadata": {},
   "outputs": [],
   "source": [
    "theta <- list(gamma =0.25, lambda=0.1)\n",
    "x <- c(P=1)\n",
    "T  <- 30\n",
    "dt <- 1\n",
    "nt <- T/dt\n",
    "t  <- seq(0,T,length.out=nt)"
   ]
  },
  {
   "cell_type": "code",
   "execution_count": 8,
   "metadata": {},
   "outputs": [],
   "source": [
    "dxdt <- function(t,x,theta){\n",
    "    with(as.list(c(x,theta)),{\n",
    "        dP <- gamma*P - lambda*P*P\n",
    "        list(c(dP)) })}"
   ]
  },
  {
   "cell_type": "code",
   "execution_count": 9,
   "metadata": {},
   "outputs": [],
   "source": [
    "x <- as.data.frame(ode(y=x, times=t, func=dxdt, parms=theta))"
   ]
  },
  {
   "cell_type": "code",
   "execution_count": 10,
   "metadata": {},
   "outputs": [
    {
     "data": {
      "image/png": "[encoded data removed]",
      "text/plain": [
       "plot without title"
      ]
     },
     "metadata": {},
     "output_type": "display_data"
    }
   ],
   "source": [
    "options(repr.plot.width=6, repr.plot.height=4)\n",
    "plot(t,x$P,type='l')"
   ]
  },
  {
   "cell_type": "code",
   "execution_count": 11,
   "metadata": {},
   "outputs": [
    {
     "data": {
      "image/png": "[encoded data removed]",
      "text/plain": [
       "plot without title"
      ]
     },
     "metadata": {},
     "output_type": "display_data"
    }
   ],
   "source": [
    "t_obs_ind <- c(1,3,4,6,9,13,16,24)\n",
    "obs       <- x$P[t_obs_ind] + rnorm(length(t_obs_ind),sd=0.1)\n",
    "t_obs     <- x$t[t_obs_ind] \n",
    "plot(t_obs,obs)"
   ]
  },
  {
   "cell_type": "code",
   "execution_count": 13,
   "metadata": {},
   "outputs": [],
   "source": [
    "stancode <- \"functions {\n",
    "   real[] P_growth(real t,       // time\n",
    "                   real[] x,      // state\n",
    "                   real[] theta, // parameters\n",
    "                   real[] x_r,   // environmental data\n",
    "                   int[] x_i){\n",
    "    real gamma  = theta[1];\n",
    "    real lambda = theta[2];\n",
    "\n",
    "    real growth = gamma*x[1];\n",
    "    real loss   = lambda*x[1]*x[1];\n",
    "    \n",
    "    return {growth - loss};\n",
    "  }\n",
    "}\n",
    "data {\n",
    "    int<lower = 0> N;           // num obs\n",
    "    real t_obs[N];              // obs times\n",
    "    real<lower = 0> y[N];       // observed variable at measurement times\n",
    "    real sigma;\n",
    "}\n",
    "parameters {\n",
    "    real<lower=0,upper=1> theta[2];      // parameters\n",
    "    real<lower=0> x0[1];\n",
    "}\n",
    "transformed parameters {\n",
    "    real x[N,1] = integrate_ode_rk45(P_growth, x0, -1, t_obs, theta,\n",
    "                                      rep_array(0.0, 0), rep_array(0, 0),\n",
    "                                      1e-6, 1e-5, 1e3);\n",
    "}\n",
    "model {\n",
    "    //theta[1] ~ normal(0.1, 2);\n",
    "    //theta[2] ~ normal(0.1, 2);\n",
    "    x0       ~ normal(1.0, 10);\n",
    "    y[1:N]   ~ normal(x[1:N,1], sigma); // obs\n",
    "}\"\n"
   ]
  },
  {
   "cell_type": "code",
   "execution_count": 14,
   "metadata": {},
   "outputs": [],
   "source": [
    "mod <- stan_model(model_code=stancode)"
   ]
  },
  {
   "cell_type": "code",
   "execution_count": 15,
   "metadata": {},
   "outputs": [],
   "source": [
    "data <- list(N=length(t_obs),\n",
    "             t_obs=t_obs,\n",
    "             y=obs,\n",
    "             sigma=0.1)"
   ]
  },
  {
   "cell_type": "code",
   "execution_count": 16,
   "metadata": {},
   "outputs": [
    {
     "name": "stdout",
     "output_type": "stream",
     "text": [
      "\n",
      "SAMPLING FOR MODEL 'c6d12bf601e0452d638def398bcc2af2' NOW (CHAIN 1).\n",
      "Chain 1: \n",
      "Chain 1: Gradient evaluation took 0 seconds\n",
      "Chain 1: 1000 transitions using 10 leapfrog steps per transition would take 0 seconds.\n",
      "Chain 1: Adjust your expectations accordingly!\n",
      "Chain 1: \n",
      "Chain 1: \n",
      "Chain 1: Iteration:    1 / 2000 [  0%]  (Warmup)\n",
      "Chain 1: Iteration:  200 / 2000 [ 10%]  (Warmup)\n",
      "Chain 1: Iteration:  400 / 2000 [ 20%]  (Warmup)\n",
      "Chain 1: Iteration:  600 / 2000 [ 30%]  (Warmup)\n",
      "Chain 1: Iteration:  800 / 2000 [ 40%]  (Warmup)\n",
      "Chain 1: Iteration: 1000 / 2000 [ 50%]  (Warmup)\n",
      "Chain 1: Iteration: 1001 / 2000 [ 50%]  (Sampling)\n",
      "Chain 1: Iteration: 1200 / 2000 [ 60%]  (Sampling)\n",
      "Chain 1: Iteration: 1400 / 2000 [ 70%]  (Sampling)\n",
      "Chain 1: Iteration: 1600 / 2000 [ 80%]  (Sampling)\n",
      "Chain 1: Iteration: 1800 / 2000 [ 90%]  (Sampling)\n",
      "Chain 1: Iteration: 2000 / 2000 [100%]  (Sampling)\n",
      "Chain 1: \n",
      "Chain 1:  Elapsed Time: 1.183 seconds (Warm-up)\n",
      "Chain 1:                1.291 seconds (Sampling)\n",
      "Chain 1:                2.474 seconds (Total)\n",
      "Chain 1: \n",
      "\n",
      "SAMPLING FOR MODEL 'c6d12bf601e0452d638def398bcc2af2' NOW (CHAIN 2).\n",
      "Chain 2: \n",
      "Chain 2: Gradient evaluation took 0 seconds\n",
      "Chain 2: 1000 transitions using 10 leapfrog steps per transition would take 0 seconds.\n",
      "Chain 2: Adjust your expectations accordingly!\n",
      "Chain 2: \n",
      "Chain 2: \n",
      "Chain 2: Iteration:    1 / 2000 [  0%]  (Warmup)\n",
      "Chain 2: Iteration:  200 / 2000 [ 10%]  (Warmup)\n",
      "Chain 2: Iteration:  400 / 2000 [ 20%]  (Warmup)\n",
      "Chain 2: Iteration:  600 / 2000 [ 30%]  (Warmup)\n",
      "Chain 2: Iteration:  800 / 2000 [ 40%]  (Warmup)\n",
      "Chain 2: Iteration: 1000 / 2000 [ 50%]  (Warmup)\n",
      "Chain 2: Iteration: 1001 / 2000 [ 50%]  (Sampling)\n",
      "Chain 2: Iteration: 1200 / 2000 [ 60%]  (Sampling)\n",
      "Chain 2: Iteration: 1400 / 2000 [ 70%]  (Sampling)\n",
      "Chain 2: Iteration: 1600 / 2000 [ 80%]  (Sampling)\n",
      "Chain 2: Iteration: 1800 / 2000 [ 90%]  (Sampling)\n",
      "Chain 2: Iteration: 2000 / 2000 [100%]  (Sampling)\n",
      "Chain 2: \n",
      "Chain 2:  Elapsed Time: 1.241 seconds (Warm-up)\n",
      "Chain 2:                1.191 seconds (Sampling)\n",
      "Chain 2:                2.432 seconds (Total)\n",
      "Chain 2: \n",
      "\n",
      "SAMPLING FOR MODEL 'c6d12bf601e0452d638def398bcc2af2' NOW (CHAIN 3).\n",
      "Chain 3: \n",
      "Chain 3: Gradient evaluation took 0 seconds\n",
      "Chain 3: 1000 transitions using 10 leapfrog steps per transition would take 0 seconds.\n",
      "Chain 3: Adjust your expectations accordingly!\n",
      "Chain 3: \n",
      "Chain 3: \n",
      "Chain 3: Iteration:    1 / 2000 [  0%]  (Warmup)\n",
      "Chain 3: Iteration:  200 / 2000 [ 10%]  (Warmup)\n",
      "Chain 3: Iteration:  400 / 2000 [ 20%]  (Warmup)\n",
      "Chain 3: Iteration:  600 / 2000 [ 30%]  (Warmup)\n",
      "Chain 3: Iteration:  800 / 2000 [ 40%]  (Warmup)\n",
      "Chain 3: Iteration: 1000 / 2000 [ 50%]  (Warmup)\n",
      "Chain 3: Iteration: 1001 / 2000 [ 50%]  (Sampling)\n",
      "Chain 3: Iteration: 1200 / 2000 [ 60%]  (Sampling)\n",
      "Chain 3: Iteration: 1400 / 2000 [ 70%]  (Sampling)\n",
      "Chain 3: Iteration: 1600 / 2000 [ 80%]  (Sampling)\n",
      "Chain 3: Iteration: 1800 / 2000 [ 90%]  (Sampling)\n",
      "Chain 3: Iteration: 2000 / 2000 [100%]  (Sampling)\n",
      "Chain 3: \n",
      "Chain 3:  Elapsed Time: 1.226 seconds (Warm-up)\n",
      "Chain 3:                1.346 seconds (Sampling)\n",
      "Chain 3:                2.572 seconds (Total)\n",
      "Chain 3: \n",
      "\n",
      "SAMPLING FOR MODEL 'c6d12bf601e0452d638def398bcc2af2' NOW (CHAIN 4).\n",
      "Chain 4: \n",
      "Chain 4: Gradient evaluation took 0 seconds\n",
      "Chain 4: 1000 transitions using 10 leapfrog steps per transition would take 0 seconds.\n",
      "Chain 4: Adjust your expectations accordingly!\n",
      "Chain 4: \n",
      "Chain 4: \n",
      "Chain 4: Iteration:    1 / 2000 [  0%]  (Warmup)\n",
      "Chain 4: Iteration:  200 / 2000 [ 10%]  (Warmup)\n",
      "Chain 4: Iteration:  400 / 2000 [ 20%]  (Warmup)\n",
      "Chain 4: Iteration:  600 / 2000 [ 30%]  (Warmup)\n",
      "Chain 4: Iteration:  800 / 2000 [ 40%]  (Warmup)\n",
      "Chain 4: Iteration: 1000 / 2000 [ 50%]  (Warmup)\n",
      "Chain 4: Iteration: 1001 / 2000 [ 50%]  (Sampling)\n",
      "Chain 4: Iteration: 1200 / 2000 [ 60%]  (Sampling)\n",
      "Chain 4: Iteration: 1400 / 2000 [ 70%]  (Sampling)\n",
      "Chain 4: Iteration: 1600 / 2000 [ 80%]  (Sampling)\n",
      "Chain 4: Iteration: 1800 / 2000 [ 90%]  (Sampling)\n",
      "Chain 4: Iteration: 2000 / 2000 [100%]  (Sampling)\n",
      "Chain 4: \n",
      "Chain 4:  Elapsed Time: 1.231 seconds (Warm-up)\n",
      "Chain 4:                1.362 seconds (Sampling)\n",
      "Chain 4:                2.593 seconds (Total)\n",
      "Chain 4: \n"
     ]
    }
   ],
   "source": [
    "mcmc <- sampling(mod,data=data,iter=2000,chains=4,open_progress=TRUE)"
   ]
  },
  {
   "cell_type": "code",
   "execution_count": 17,
   "metadata": {},
   "outputs": [],
   "source": [
    "post <- extract(mcmc)"
   ]
  },
  {
   "cell_type": "code",
   "execution_count": 22,
   "metadata": {},
   "outputs": [
    {
     "data": {
      "text/html": [
       "<ol class=list-inline>\n",
       "\t<li>'theta'</li>\n",
       "\t<li>'x0'</li>\n",
       "\t<li>'x'</li>\n",
       "\t<li>'lp__'</li>\n",
       "</ol>\n"
      ],
      "text/latex": [
       "\\begin{enumerate*}\n",
       "\\item 'theta'\n",
       "\\item 'x0'\n",
       "\\item 'x'\n",
       "\\item 'lp\\_\\_'\n",
       "\\end{enumerate*}\n"
      ],
      "text/markdown": [
       "1. 'theta'\n",
       "2. 'x0'\n",
       "3. 'x'\n",
       "4. 'lp__'\n",
       "\n",
       "\n"
      ],
      "text/plain": [
       "[1] \"theta\" \"x0\"    \"x\"     \"lp__\" "
      ]
     },
     "metadata": {},
     "output_type": "display_data"
    }
   ],
   "source": [
    "names(post)"
   ]
  },
  {
   "cell_type": "code",
   "execution_count": 23,
   "metadata": {},
   "outputs": [
    {
     "data": {
      "text/html": [
       "<ol class=list-inline>\n",
       "\t<li>4000</li>\n",
       "\t<li>2</li>\n",
       "</ol>\n"
      ],
      "text/latex": [
       "\\begin{enumerate*}\n",
       "\\item 4000\n",
       "\\item 2\n",
       "\\end{enumerate*}\n"
      ],
      "text/markdown": [
       "1. 4000\n",
       "2. 2\n",
       "\n",
       "\n"
      ],
      "text/plain": [
       "[1] 4000    2"
      ]
     },
     "metadata": {},
     "output_type": "display_data"
    },
    {
     "data": {
      "text/html": [
       "<ol class=list-inline>\n",
       "\t<li>4000</li>\n",
       "\t<li>1</li>\n",
       "</ol>\n"
      ],
      "text/latex": [
       "\\begin{enumerate*}\n",
       "\\item 4000\n",
       "\\item 1\n",
       "\\end{enumerate*}\n"
      ],
      "text/markdown": [
       "1. 4000\n",
       "2. 1\n",
       "\n",
       "\n"
      ],
      "text/plain": [
       "[1] 4000    1"
      ]
     },
     "metadata": {},
     "output_type": "display_data"
    }
   ],
   "source": [
    "dim(post$theta)\n",
    "dim(post$x0)"
   ]
  },
  {
   "cell_type": "code",
   "execution_count": 29,
   "metadata": {},
   "outputs": [
    {
     "data": {
      "image/png": "[encoded data removed]",
      "text/plain": [
       "Plot with title \"\""
      ]
     },
     "metadata": {},
     "output_type": "display_data"
    }
   ],
   "source": [
    "options(repr.plot.width=8, repr.plot.height=4)\n",
    "par(mfrow=c(1,3))\n",
    "hist(post$theta[,1],xlab='gamma',main='')\n",
    "hist(post$theta[,2],xlab='lambda',main='')\n",
    "hist(post$x0,xlab='x0',main='')"
   ]
  },
  {
   "cell_type": "markdown",
   "metadata": {},
   "source": [
    "## Periodic P Growth"
   ]
  },
  {
   "cell_type": "code",
   "execution_count": 12,
   "metadata": {},
   "outputs": [],
   "source": [
    "theta_sin <- list(gamma =0.25,\n",
    "                  lambda=0.1,\n",
    "                  period=365,\n",
    "                  omega =2*pi/365,\n",
    "                      dt=1)\n",
    "x_sin <- c(P   =2.5,\n",
    "           time=0)\n",
    "T_sin  <- 365*4\n",
    "dt_sin <- 1\n",
    "nt_sin <- T_sin/dt_sin\n",
    "\n",
    "t_sin  <- seq(0,T_sin,length.out=nt_sin)"
   ]
  },
  {
   "cell_type": "code",
   "execution_count": 13,
   "metadata": {},
   "outputs": [],
   "source": [
    "dxdt_sin <- function(t,x,theta){\n",
    "    with(as.list(c(x,theta)),{\n",
    "        dP      <- gamma*(1+sin(omega*time))*P - lambda*P*P\n",
    "        delta_t <- dt\n",
    "        list(c(dP, delta_t))\n",
    "    })\n",
    "}"
   ]
  },
  {
   "cell_type": "code",
   "execution_count": 14,
   "metadata": {},
   "outputs": [],
   "source": [
    "x_sin <- as.data.frame(ode(y=x_sin, times=t_sin, func=dxdt_sin, parms=theta_sin))"
   ]
  },
  {
   "cell_type": "code",
   "execution_count": 29,
   "metadata": {},
   "outputs": [
    {
     "data": {
      "image/png": "[encoded data removed]",
      "text/plain": [
       "plot without title"
      ]
     },
     "metadata": {},
     "output_type": "display_data"
    }
   ],
   "source": [
    "plot(x_sin$time,x_sin$P,type='l')"
   ]
  },
  {
   "cell_type": "code",
   "execution_count": 34,
   "metadata": {},
   "outputs": [],
   "source": [
    "t_obs_ind_sin      <- sort(sample(1:length(t_sin),50))\n",
    "obs_sin            <- x_sin$P[t_obs_ind_sin] + rnorm(length(t_obs_ind_sin),sd=0.5)\n",
    "obs_sin[obs_sin<0] <- 0\n",
    "t_obs_sin          <- x_sin$time[t_obs_ind_sin] "
   ]
  },
  {
   "cell_type": "code",
   "execution_count": 35,
   "metadata": {},
   "outputs": [
    {
     "data": {
      "image/png": "[encoded data removed]",
      "text/plain": [
       "plot without title"
      ]
     },
     "metadata": {},
     "output_type": "display_data"
    }
   ],
   "source": [
    "plot(t_obs_sin,obs_sin,type='l')"
   ]
  },
  {
   "cell_type": "code",
   "execution_count": 18,
   "metadata": {},
   "outputs": [],
   "source": [
    "stancode_sin <- \"functions {\n",
    "   real[] P_growth(real t,       // time\n",
    "                   real[] x,      // state\n",
    "                   real[] theta, // parameters\n",
    "                   real[] x_r,   // environmental data\n",
    "                   int[] x_i){\n",
    "    real gamma  = theta[1];\n",
    "    real lambda = theta[2];\n",
    "\t//real a      = theta[3];\n",
    "\n",
    "    real growth = gamma*x[1] + gamma*sin(2*pi()*(1.0/365.0)*t)*x[1];\n",
    "    real loss   = lambda*x[1]*x[1];\n",
    "    \n",
    "    return {growth - loss};\n",
    "  }\n",
    "}\n",
    "data {\n",
    "    int<lower = 0> N;           // num obs\n",
    "    real<lower = 0> t_obs[N];              // obs times\n",
    "    real<lower = 0> y[N];       // observed variable at measurement times\n",
    "    //real<lower = 0> sigma;\n",
    "}\n",
    "parameters {\n",
    "    real<lower=0> theta[2];      // parameters\n",
    "    real<lower=0> x0[1];\n",
    "\treal<lower=1E-15> sigma;\n",
    "}\n",
    "transformed parameters {\n",
    "    real<lower=0> x[N,1] = integrate_ode_rk45(P_growth, x0, 1, t_obs, theta,\n",
    "                                      rep_array(0.0, 0), rep_array(0, 0),\n",
    "                                      1e-6, 1e-6, 1e5);\n",
    "}\n",
    "model {\n",
    "    theta[1] ~ normal(0.1, 1);\n",
    "    theta[2] ~ normal(0.1, 1);\n",
    "\t//theta[3] ~ normal(0.01,1);\n",
    "    x0       ~ normal(1.0, 10);\n",
    "    y[1:N]   ~ normal(x[1:N,1], sigma); // obs\n",
    "}\"\n"
   ]
  },
  {
   "cell_type": "code",
   "execution_count": 19,
   "metadata": {},
   "outputs": [],
   "source": [
    "mod_sin <- stan_model(model_code=stancode_sin)"
   ]
  },
  {
   "cell_type": "code",
   "execution_count": 36,
   "metadata": {},
   "outputs": [],
   "source": [
    "data_sin <- list(N=length(t_obs_sin),\n",
    "             t_obs=round(t_obs_sin),\n",
    "             y=obs_sin)"
   ]
  },
  {
   "cell_type": "code",
   "execution_count": 37,
   "metadata": {},
   "outputs": [],
   "source": [
    "mcmc_sin <- sampling(mod_sin,data=data_sin,iter=2000,chains=4,open_progress=TRUE)"
   ]
  },
  {
   "cell_type": "code",
   "execution_count": 38,
   "metadata": {},
   "outputs": [
    {
     "data": {
      "text/plain": [
       "Inference for Stan model: 88abac259638d91ada7fb287ff6180c3.\n",
       "4 chains, each with iter=2000; warmup=1000; thin=1; \n",
       "post-warmup draws per chain=1000, total post-warmup draws=4000.\n",
       "\n",
       "         mean se_mean   sd  2.5%  25%  50%   75% 97.5% n_eff Rhat\n",
       "theta[1] 0.85    0.01 0.50  0.27 0.47 0.72  1.11  2.10  1311    1\n",
       "theta[2] 0.34    0.01 0.20  0.11 0.19 0.28  0.45  0.84  1310    1\n",
       "x0[1]    8.38    0.13 6.18  0.47 3.52 7.18 12.05 23.21  2350    1\n",
       "sigma    0.58    0.00 0.06  0.48 0.54 0.58  0.62  0.72  1749    1\n",
       "x[1,1]   2.86    0.00 0.10  2.65 2.80 2.86  2.92  3.06  2451    1\n",
       "x[2,1]   2.94    0.00 0.09  2.76 2.88 2.94  2.99  3.11  3187    1\n",
       "x[3,1]   3.31    0.00 0.10  3.12 3.25 3.31  3.38  3.50  3514    1\n",
       "x[4,1]   5.03    0.00 0.14  4.75 4.94 5.03  5.12  5.30  3980    1\n",
       "x[5,1]   4.88    0.00 0.14  4.61 4.79 4.89  4.97  5.14  3921    1\n",
       "x[6,1]   4.82    0.00 0.13  4.55 4.73 4.82  4.91  5.08  3900    1\n",
       "x[7,1]   3.96    0.00 0.11  3.73 3.88 3.96  4.03  4.17  3563    1\n",
       "x[8,1]   2.10    0.00 0.07  1.96 2.05 2.10  2.15  2.25  2211    1\n",
       "x[9,1]   1.77    0.00 0.07  1.65 1.73 1.77  1.82  1.92  1936    1\n",
       "x[10,1]  0.99    0.00 0.07  0.88 0.94 0.98  1.03  1.13  1448    1\n",
       "x[11,1]  0.46    0.00 0.07  0.36 0.41 0.45  0.50  0.60  1311    1\n",
       "x[12,1]  0.30    0.00 0.06  0.20 0.25 0.29  0.34  0.44  1294    1\n",
       "x[13,1]  0.13    0.00 0.05  0.06 0.09 0.13  0.17  0.25  1291    1\n",
       "x[14,1]  0.27    0.00 0.06  0.21 0.22 0.24  0.30  0.43  1330    1\n",
       "x[15,1]  1.17    0.00 0.14  0.81 1.10 1.22  1.27  1.35  1424    1\n",
       "x[16,1]  2.66    0.00 0.08  2.49 2.61 2.66  2.72  2.82  2851    1\n",
       "x[17,1]  3.71    0.00 0.11  3.50 3.64 3.72  3.78  3.92  3705    1\n",
       "x[18,1]  4.87    0.00 0.14  4.59 4.78 4.87  4.95  5.13  3997    1\n",
       "x[19,1]  0.71    0.00 0.07  0.61 0.65 0.69  0.75  0.85  1357    1\n",
       "x[20,1]  0.12    0.00 0.05  0.05 0.08 0.11  0.15  0.22  1293    1\n",
       "x[21,1]  2.66    0.00 0.08  2.49 2.61 2.66  2.72  2.82  2851    1\n",
       "x[22,1]  5.03    0.00 0.14  4.75 4.93 5.03  5.12  5.30  3984    1\n",
       "x[23,1]  5.03    0.00 0.14  4.75 4.94 5.03  5.12  5.30  3981    1\n",
       "x[24,1]  5.02    0.00 0.14  4.74 4.93 5.03  5.12  5.29  3976    1\n",
       "x[25,1]  2.69    0.00 0.08  2.52 2.63 2.69  2.74  2.85  2714    1\n",
       "x[26,1]  1.77    0.00 0.07  1.65 1.73 1.77  1.82  1.92  1936    1\n",
       "x[27,1]  1.15    0.00 0.07  1.04 1.10 1.14  1.19  1.29  1520    1\n",
       "x[28,1]  0.61    0.00 0.07  0.51 0.56 0.60  0.65  0.75  1336    1\n",
       "x[29,1]  0.36    0.00 0.07  0.26 0.30 0.35  0.40  0.50  1299    1\n",
       "x[30,1]  0.34    0.00 0.07  0.24 0.29 0.33  0.38  0.48  1298    1\n",
       "x[31,1]  0.18    0.00 0.06  0.09 0.13 0.17  0.21  0.30  1290    1\n",
       "x[32,1]  0.78    0.00 0.16  0.48 0.66 0.82  0.92  0.99  1295    1\n",
       "x[33,1]  2.30    0.00 0.08  2.13 2.25 2.31  2.36  2.45  2323    1\n",
       "x[34,1]  2.75    0.00 0.09  2.58 2.69 2.75  2.81  2.91  2972    1\n",
       "x[35,1]  3.83    0.00 0.11  3.61 3.76 3.83  3.90  4.04  3747    1\n",
       "x[36,1]  4.21    0.00 0.12  3.97 4.13 4.21  4.29  4.44  3906    1\n",
       "x[37,1]  4.91    0.00 0.14  4.63 4.82 4.91  5.00  5.18  3996    1\n",
       "x[38,1]  5.01    0.00 0.14  4.73 4.92 5.01  5.10  5.28  3989    1\n",
       "x[39,1]  4.97    0.00 0.14  4.69 4.88 4.97  5.06  5.23  3953    1\n",
       "x[40,1]  3.63    0.00 0.10  3.42 3.56 3.63  3.69  3.83  3380    1\n",
       "x[41,1]  2.98    0.00 0.09  2.80 2.92 2.98  3.04  3.15  2936    1\n",
       "x[42,1]  2.81    0.00 0.09  2.64 2.76 2.81  2.87  2.98  2813    1\n",
       "x[43,1]  0.10    0.00 0.04  0.05 0.07 0.09  0.12  0.18  1302    1\n",
       "x[44,1]  0.13    0.00 0.02  0.11 0.11 0.12  0.14  0.18  1482    1\n",
       "x[45,1]  0.74    0.00 0.15  0.45 0.61 0.77  0.88  0.96  1284    1\n",
       "x[46,1]  0.82    0.00 0.16  0.51 0.70 0.87  0.96  1.03  1307    1\n",
       "x[47,1]  1.35    0.00 0.13  1.01 1.30 1.39  1.44  1.51  1488    1\n",
       "x[48,1]  1.85    0.00 0.09  1.63 1.81 1.86  1.91  1.99  1756    1\n",
       "x[49,1]  2.17    0.00 0.08  1.99 2.12 2.17  2.22  2.32  2132    1\n",
       "x[50,1]  2.26    0.00 0.08  2.08 2.21 2.26  2.31  2.41  2258    1\n",
       "lp__     1.87    0.04 1.35 -1.51 1.20 2.17  2.86  3.57  1332    1\n",
       "\n",
       "Samples were drawn using NUTS(diag_e) at Thu Dec 12 15:11:16 2019.\n",
       "For each parameter, n_eff is a crude measure of effective sample size,\n",
       "and Rhat is the potential scale reduction factor on split chains (at \n",
       "convergence, Rhat=1)."
      ]
     },
     "metadata": {},
     "output_type": "display_data"
    }
   ],
   "source": [
    "mcmc_sin"
   ]
  },
  {
   "cell_type": "code",
   "execution_count": 39,
   "metadata": {},
   "outputs": [],
   "source": [
    "post_sin <- extract(mcmc_sin)"
   ]
  },
  {
   "cell_type": "code",
   "execution_count": 44,
   "metadata": {},
   "outputs": [
    {
     "data": {
      "image/png": "[encoded data removed]",
      "text/plain": [
       "Plot with title \"\""
      ]
     },
     "metadata": {},
     "output_type": "display_data"
    }
   ],
   "source": [
    "par(mfrow=c(1,3))\n",
    "hist(post_sin$theta[,1],xlab='gamma',main='')\n",
    "hist(post_sin$theta[,2],xlab='lambda',main='')\n",
    "hist(post_sin$x0,xlab='x0',main='')"
   ]
  },
  {
   "cell_type": "code",
   "execution_count": 42,
   "metadata": {},
   "outputs": [
    {
     "data": {
      "image/png": "[encoded data removed]",
      "text/plain": [
       "plot without title"
      ]
     },
     "metadata": {},
     "output_type": "display_data"
    }
   ],
   "source": [
    "pairs(post_sin$theta)"
   ]
  },
  {
   "cell_type": "code",
   "execution_count": 45,
   "metadata": {},
   "outputs": [
    {
     "data": {
      "image/png": "[encoded data removed]",
      "text/plain": [
       "plot without title"
      ]
     },
     "metadata": {},
     "output_type": "display_data"
    }
   ],
   "source": [
    "plot(t_obs_sin,colMeans(post_sin$x[,,1]),type='l')\n",
    "points(t_obs_sin,obs_sin)"
   ]
  }
 ],
 "metadata": {
  "kernelspec": {
   "display_name": "R",
   "language": "R",
   "name": "ir"
  },
  "language_info": {
   "codemirror_mode": "r",
   "file_extension": ".r",
   "mimetype": "text/x-r-source",
   "name": "R",
   "pygments_lexer": "r",
   "version": "3.6.1"
  }
 },
 "nbformat": 4,
 "nbformat_minor": 2
}
