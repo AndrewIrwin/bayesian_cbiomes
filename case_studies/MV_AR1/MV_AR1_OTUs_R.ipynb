{
 "cells": [
  {
   "cell_type": "markdown",
   "metadata": {},
   "source": [
    "## Dynamics of microbial OTUs\n",
    "\n",
    "In this notebook we use the multivariate AR(1) model to fit a multivariate time series of marine bacterial operational taxonomic units (OTUs).\n",
    "The dataset comes from\n",
    "\n",
    "*Martin-Platero et al. 2018. High resolution time sereis reveals cohesive but short lived communities in coastal plankton. Nature Communications*\n",
    "\n",
    "First load packages and read in the dataset:"
   ]
  },
  {
   "cell_type": "code",
   "execution_count": 10,
   "metadata": {},
   "outputs": [],
   "source": [
    "library(rstan)\n",
    "options(mc.cores=parallel::detectCores())"
   ]
  },
  {
   "cell_type": "code",
   "execution_count": 11,
   "metadata": {},
   "outputs": [],
   "source": [
    "DAT <- read.csv('../../data/bacterial_OTU.csv',stringsAsFactors=FALSE)"
   ]
  },
  {
   "cell_type": "markdown",
   "metadata": {},
   "source": [
    "Aggregate the data by phyla, which is indicated in the third column of the dataset:"
   ]
  },
  {
   "cell_type": "code",
   "execution_count": 47,
   "metadata": {},
   "outputs": [],
   "source": [
    "phyla <- unique(DAT[,3])   #extract unique phyla IDS\n",
    "PHY   <- data.frame()      #open empty data frame\n",
    "for(i in 1:length(phyla)){\n",
    "\txtmp <- apply(as.data.frame(DAT[DAT[,3]==phyla[i],9:ncol(DAT)]),2,sum) #sum all OTUs of that phyla\n",
    "\tPHY  <- rbind(PHY,xtmp)                                                #attach as rows to the empty data frame\n",
    "}"
   ]
  },
  {
   "cell_type": "markdown",
   "metadata": {},
   "source": [
    "Now take a look to see how each phyla contributes to the total abundances:"
   ]
  },
  {
   "cell_type": "code",
   "execution_count": 48,
   "metadata": {},
   "outputs": [
    {
     "data": {
      "text/html": [
       "<table>\n",
       "<caption>A matrix: 2 × 24 of type dbl</caption>\n",
       "<tbody>\n",
       "\t<tr><td>      1</td><td>      2</td><td>     3</td><td>     4</td><td>    5</td><td>    6</td><td>    7</td><td>    8</td><td>    9</td><td>  10</td><td>...</td><td> 15</td><td>16</td><td> 17</td><td> 18</td><td>19</td><td>20</td><td>21</td><td>22</td><td>23</td><td>24</td></tr>\n",
       "\t<tr><td>1068025</td><td>1086966</td><td>225623</td><td>245003</td><td>86525</td><td>55012</td><td>65740</td><td>10889</td><td>27331</td><td>1939</td><td>...</td><td>190</td><td>73</td><td>219</td><td>132</td><td>53</td><td>23</td><td> 2</td><td> 1</td><td> 2</td><td> 1</td></tr>\n",
       "</tbody>\n",
       "</table>\n"
      ],
      "text/latex": [
       "A matrix: 2 × 24 of type dbl\n",
       "\\begin{tabular}{llllllllllllllllllllllll}\n",
       "\t       1 &       2 &      3 &      4 &     5 &     6 &     7 &     8 &     9 &   10 &   11 &  12 &  13 &  14 &  15 & 16 &  17 &  18 & 19 & 20 & 21 & 22 & 23 & 24\\\\\n",
       "\t 1068025 & 1086966 & 225623 & 245003 & 86525 & 55012 & 65740 & 10889 & 27331 & 1939 & 2029 & 585 & 946 & 420 & 190 & 73 & 219 & 132 & 53 & 23 &  2 &  1 &  2 &  1\\\\\n",
       "\\end{tabular}\n"
      ],
      "text/markdown": [
       "\n",
       "A matrix: 2 × 24 of type dbl\n",
       "\n",
       "|       1 |       2 |      3 |      4 |     5 |     6 |     7 |     8 |     9 |   10 | ... |  15 | 16 |  17 |  18 | 19 | 20 | 21 | 22 | 23 | 24 |\n",
       "| 1068025 | 1086966 | 225623 | 245003 | 86525 | 55012 | 65740 | 10889 | 27331 | 1939 | ... | 190 | 73 | 219 | 132 | 53 | 23 |  2 |  1 |  2 |  1 |\n",
       "\n"
      ],
      "text/plain": [
       "     [,1]    [,2]    [,3]   [,4]   [,5]  [,6]  [,7]  [,8]  [,9]  [,10] [,11]\n",
       "[1,]       1       2      3      4     5     6     7     8     9   10  ...  \n",
       "[2,] 1068025 1086966 225623 245003 86525 55012 65740 10889 27331 1939  ...  \n",
       "     [,12] [,13] [,14] [,15] [,16] [,17] [,18] [,19] [,20] [,21]\n",
       "[1,]  15   16     17    18   19    20    21    22    23    24   \n",
       "[2,] 190   73    219   132   53    23     2     1     2     1   "
      ]
     },
     "metadata": {},
     "output_type": "display_data"
    }
   ],
   "source": [
    "rbind(1:nrow(PHY),rowSums(PHY))  #list row number alongside row sums"
   ]
  },
  {
   "cell_type": "markdown",
   "metadata": {},
   "source": [
    "We will only model the four most abundant phyla, to keep things simple and fast within Stan.\n",
    "Below we subset PHY for those phyla:"
   ]
  },
  {
   "cell_type": "code",
   "execution_count": 59,
   "metadata": {},
   "outputs": [],
   "source": [
    "phy <- PHY[1:4,]"
   ]
  },
  {
   "cell_type": "code",
   "execution_count": 60,
   "metadata": {},
   "outputs": [
    {
     "data": {
      "image/png": "[encoded data removed]",
      "text/plain": [
       "plot without title"
      ]
     },
     "metadata": {},
     "output_type": "display_data"
    }
   ],
   "source": [
    "options(repr.plot.width=6, repr.plot.height=4)\n",
    "matplot(t(phy),type='l')"
   ]
  },
  {
   "cell_type": "code",
   "execution_count": 75,
   "metadata": {},
   "outputs": [],
   "source": [
    "dat_PHY <- list(T=ncol(phy),\n",
    "                p=nrow(phy),\n",
    "                Y=phy)"
   ]
  },
  {
   "cell_type": "code",
   "execution_count": 76,
   "metadata": {},
   "outputs": [],
   "source": [
    "mod_code <- \"data {\n",
    "\tint T;         //length of time series\n",
    "\tint p;         //number of variables\n",
    "\tmatrix[p,T] Y; //matrix of observations; variables are rows; time is columns\n",
    "}\n",
    "parameters{\n",
    "\tmatrix[p,p] PHI;     //dynamics matrix\n",
    "\tvector<lower=1E-15>[p] sigma;     //variances of stochastic forcing\n",
    "\tvector[p] init;      //mean of initial conditions as parameter vector\n",
    "}\n",
    "model{\n",
    "\tY[,1] ~ normal(init, sigma);            //distribution of the initial conditions\n",
    "\tfor(i in 2:T){\n",
    "        Y[,i] ~ normal(PHI*Y[,i-1],sigma);  //conditional predictive distribution\n",
    "\t}\n",
    "}\""
   ]
  },
  {
   "cell_type": "code",
   "execution_count": 65,
   "metadata": {},
   "outputs": [],
   "source": [
    "mod <- stan_model(model_code=mod_code)"
   ]
  },
  {
   "cell_type": "code",
   "execution_count": 54,
   "metadata": {},
   "outputs": [],
   "source": [
    "mcmc <- sampling(mod,data=dat_PHY,iter=2000,warmup=1000,open_progress=TRUE)"
   ]
  },
  {
   "cell_type": "code",
   "execution_count": 55,
   "metadata": {},
   "outputs": [
    {
     "data": {
      "text/plain": [
       "Inference for Stan model: c48e7550a72050a85f7d86fb4ca9c543.\n",
       "4 chains, each with iter=2000; warmup=1000; thin=1; \n",
       "post-warmup draws per chain=1000, total post-warmup draws=4000.\n",
       "\n",
       "             mean se_mean      sd     2.5%      25%      50%      75%    97.5%\n",
       "PHI[1,1]     0.67    0.00    0.10     0.47     0.61     0.67     0.73     0.85\n",
       "PHI[1,2]     0.03    0.00    0.09    -0.15    -0.03     0.04     0.10     0.21\n",
       "PHI[1,3]     0.18    0.00    0.16    -0.13     0.08     0.18     0.29     0.49\n",
       "PHI[1,4]     0.61    0.01    0.41    -0.20     0.34     0.61     0.88     1.41\n",
       "PHI[2,1]     0.13    0.00    0.09    -0.05     0.08     0.13     0.20     0.31\n",
       "PHI[2,2]     0.78    0.00    0.09     0.60     0.72     0.78     0.84     0.95\n",
       "PHI[2,3]     0.37    0.00    0.15     0.08     0.26     0.37     0.47     0.65\n",
       "PHI[2,4]    -0.42    0.00    0.40    -1.19    -0.69    -0.43    -0.16     0.37\n",
       "PHI[3,1]     0.01    0.00    0.03    -0.04    -0.01     0.01     0.03     0.06\n",
       "PHI[3,2]     0.05    0.00    0.03     0.00     0.03     0.05     0.07     0.10\n",
       "PHI[3,3]     0.85    0.00    0.04     0.77     0.82     0.85     0.88     0.93\n",
       "PHI[3,4]    -0.22    0.00    0.11    -0.43    -0.29    -0.22    -0.14     0.00\n",
       "PHI[4,1]     0.08    0.00    0.02     0.03     0.06     0.08     0.10     0.12\n",
       "PHI[4,2]     0.00    0.00    0.02    -0.04    -0.01     0.00     0.02     0.05\n",
       "PHI[4,3]     0.04    0.00    0.04    -0.04     0.01     0.04     0.06     0.11\n",
       "PHI[4,4]     0.49    0.00    0.10     0.29     0.43     0.49     0.56     0.69\n",
       "sigma[1]  2294.98    1.21  100.99  2105.66  2225.17  2292.63  2361.35  2498.72\n",
       "sigma[2]  2197.17    1.03   96.24  2020.44  2130.37  2192.63  2259.09  2394.16\n",
       "sigma[3]   620.36    0.31   27.46   570.01   601.51   619.40   638.08   675.54\n",
       "sigma[4]   549.15    0.25   24.24   502.16   532.69   548.38   564.70   599.18\n",
       "init[1]    906.25   25.16 2380.40 -3726.06  -733.20   902.38  2562.32  5558.03\n",
       "init[2]   2508.99   23.55 2197.67 -1873.39  1087.80  2516.94  3980.15  6915.46\n",
       "init[3]    871.96    6.66  595.84  -273.70   472.71   864.37  1268.63  2070.84\n",
       "init[4]    245.96    6.73  560.04  -852.85  -118.17   241.52   619.17  1339.85\n",
       "lp__     -7933.92    0.08    3.43 -7941.52 -7936.00 -7933.61 -7931.46 -7928.22\n",
       "         n_eff Rhat\n",
       "PHI[1,1]  4912    1\n",
       "PHI[1,2]  5741    1\n",
       "PHI[1,3]  6491    1\n",
       "PHI[1,4]  5396    1\n",
       "PHI[2,1]  6408    1\n",
       "PHI[2,2]  6053    1\n",
       "PHI[2,3]  6497    1\n",
       "PHI[2,4]  6654    1\n",
       "PHI[3,1]  5946    1\n",
       "PHI[3,2]  5563    1\n",
       "PHI[3,3]  6251    1\n",
       "PHI[3,4]  6322    1\n",
       "PHI[4,1]  5994    1\n",
       "PHI[4,2]  5037    1\n",
       "PHI[4,3]  6405    1\n",
       "PHI[4,4]  5702    1\n",
       "sigma[1]  7003    1\n",
       "sigma[2]  8769    1\n",
       "sigma[3]  7781    1\n",
       "sigma[4]  9426    1\n",
       "init[1]   8954    1\n",
       "init[2]   8707    1\n",
       "init[3]   8014    1\n",
       "init[4]   6926    1\n",
       "lp__      1701    1\n",
       "\n",
       "Samples were drawn using NUTS(diag_e) at Sun Dec 29 11:21:03 2019.\n",
       "For each parameter, n_eff is a crude measure of effective sample size,\n",
       "and Rhat is the potential scale reduction factor on split chains (at \n",
       "convergence, Rhat=1)."
      ]
     },
     "metadata": {},
     "output_type": "display_data"
    }
   ],
   "source": [
    "mcmc"
   ]
  }
 ],
 "metadata": {
  "@webio": {
   "lastCommId": null,
   "lastKernelId": null
  },
  "kernelspec": {
   "display_name": "R",
   "language": "R",
   "name": "ir"
  },
  "language_info": {
   "codemirror_mode": "r",
   "file_extension": ".r",
   "mimetype": "text/x-r-source",
   "name": "R",
   "pygments_lexer": "r",
   "version": "3.6.1"
  }
 },
 "nbformat": 4,
 "nbformat_minor": 2
}
