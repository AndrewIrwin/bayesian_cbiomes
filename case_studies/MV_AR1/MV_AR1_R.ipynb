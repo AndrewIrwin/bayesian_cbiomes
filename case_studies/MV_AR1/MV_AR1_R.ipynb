{
 "cells": [
  {
   "cell_type": "markdown",
   "metadata": {},
   "source": [
    "## Multivariate autoregressive model example\n",
    "\n",
    "In this case study we analyze multivariate time series using generic linear stochastic dynamical systems models. \n",
    "We will use these models to analyze multispecies time series and extract information on time series interactions and forcing.\n",
    "\n",
    "The model we will analyze is given as \n",
    "\n",
    "$$ \\mathbf{x}(t+1) = \\mathbf{\\Phi} \\mathbf{x}(t) + \\mathbf{e}(t) $$\n",
    "\n",
    "where $\\mathbf{x}(t)$ is a multivariate time series at time $t$, $\\mathbf{\\Phi}$ is the linear dynamics matrix, and $\\mathbf{e}(t)$ is a realization of a stochastic variable, assumed here multivariate normal with mean vector zero and covariance matrix, $\\mathcal{N}(\\mathbf{\\mu},\\mathbf{\\Sigma})$.\n",
    "\n",
    "In general, we can think of this model as a first order approximation to the dynamics of a more general multivariate dynamical system. \n",
    "In this context, the matrix $\\mathbf{\\Phi}$ would represent the Jacobian matrix, containing information on the discretized partial derivatives of each state variable with respect to each of the others. \n",
    "The matrix $\\mathbf{\\Sigma}$ contains information on the magnitude of stochastic forcing as well as correlations among the variables responses."
   ]
  },
  {
   "cell_type": "markdown",
   "metadata": {},
   "source": [
    "To explore this model we will first simulate some data"
   ]
  },
  {
   "cell_type": "code",
   "execution_count": 3,
   "metadata": {},
   "outputs": [],
   "source": [
    "library(MASS)     #package for the multi-variate normal distribution\n",
    "library(rstan)\n",
    "options(mc.cores = parallel::detectCores())"
   ]
  },
  {
   "cell_type": "markdown",
   "metadata": {},
   "source": [
    "The procedure below uses some linear algebra (specifically the $QR$ decomposition) to generate a random matrix that will stable, i.e. that simulated time series won't blow-up.\n",
    "We do so by making the eigenvalues of the random matrix lie between 0 and 1."
   ]
  },
  {
   "cell_type": "code",
   "execution_count": 19,
   "metadata": {},
   "outputs": [],
   "source": [
    "p     <- 3\n",
    "\n",
    "SIGMA  <- diag(runif(p))   #generate random numbers\n",
    "\n",
    "eig    <- runif(p,0,1)\n",
    "Z      <- matrix(ncol=p, rnorm(p^2))\n",
    "decomp <- qr(Z)\n",
    "Q      <- qr.Q(decomp)\n",
    "R      <- qr.R(decomp)\n",
    "d      <- diag(R)\n",
    "ph     <- d / abs(d)\n",
    "O      <- Q %*% diag(ph)\n",
    "PHI    <- t(O) %*% diag(eig) %*% O"
   ]
  },
  {
   "cell_type": "markdown",
   "metadata": {},
   "source": [
    "We simulate time series given the specified parameters. \n",
    "Notice we are drawing a multivariate normal realization every time step with mean zero and covariance matrix `SIGMA`."
   ]
  },
  {
   "cell_type": "code",
   "execution_count": 20,
   "metadata": {},
   "outputs": [],
   "source": [
    "T  <- 200\n",
    "y0 <- rnorm(p)\n",
    "Y     <- matrix(NA,p,T)\n",
    "Y[,1] <- y0\n",
    "\n",
    "for(t in 2:T){\n",
    "    Y[,t] <- PHI%*%Y[,t-1] + mvrnorm(1,rep(0,3),SIGMA)}"
   ]
  },
  {
   "cell_type": "markdown",
   "metadata": {},
   "source": [
    "Plot the system"
   ]
  },
  {
   "cell_type": "code",
   "execution_count": 21,
   "metadata": {},
   "outputs": [
    {
     "data": {
      "image/png": "[encoded data removed]",
      "text/plain": [
       "plot without title"
      ]
     },
     "metadata": {},
     "output_type": "display_data"
    }
   ],
   "source": [
    "options(repr.plot.width=6, repr.plot.height=4)\n",
    "matplot(t(Y),type='l')"
   ]
  },
  {
   "cell_type": "markdown",
   "metadata": {},
   "source": [
    "The Stan code below implements the first order multivariate model.\n",
    "As per usual, we pass Stan the data and its dimensions in the `data` block.\n",
    "In the `parameters` block, we define the linear dynamics matrix `PHI` which has as many rows and columns as there are time series.\n",
    "In this case we assume the covariance matrix is of the form\n",
    "\n",
    "$$ \\mathbf{\\Sigma} = \\begin{bmatrix} \\sigma_{1,1} & 0 & \\cdots & 0\\\\\n",
    "                                    0 & \\sigma_{2,2} & \\ddots & \\vdots \\\\\n",
    "                                    \\vdots & \\ddots & \\ddots & \\vdots \\\\\n",
    "                                    0 & \\cdots & \\cdots & \\sigma_{p,p} \\end{bmatrix}   $$\n",
    "                                    \n",
    "which means that each species in the mulispecies time series responds to the environment independently."
   ]
  },
  {
   "cell_type": "code",
   "execution_count": 11,
   "metadata": {},
   "outputs": [],
   "source": [
    "mod_code <- \"data {\n",
    "\tint T;         //length of time series\n",
    "\tint p;         //number of variables\n",
    "\tmatrix[p,T] Y; //matrix of observations; variables are rows; time is columns\n",
    "}\n",
    "parameters{\n",
    "\tmatrix[p,p] PHI;     //dynamics matrix\n",
    "\tvector<lower=1E-15>[p] sigma;     //variances of stochastic forcing\n",
    "\tvector[p] init;      //mean of initial conditions as parameter vector\n",
    "}\n",
    "model{\n",
    "\tY[,1] ~ normal(init, sigma);           //distribution of the initial conditions\n",
    "\tfor(i in 2:T){\n",
    "\t\tY[,i] ~ normal(PHI*Y[,i-1],sigma); //conditional predictive distribution\n",
    "\t}\n",
    "}\""
   ]
  },
  {
   "cell_type": "markdown",
   "metadata": {},
   "source": [
    "Compile the model"
   ]
  },
  {
   "cell_type": "code",
   "execution_count": 12,
   "metadata": {},
   "outputs": [],
   "source": [
    "mod <- stan_model(model_code=mod_code)"
   ]
  },
  {
   "cell_type": "markdown",
   "metadata": {},
   "source": [
    "Organize the data for Stan"
   ]
  },
  {
   "cell_type": "code",
   "execution_count": 13,
   "metadata": {},
   "outputs": [],
   "source": [
    "data <- list(p=p,T=T,Y=Y)"
   ]
  },
  {
   "cell_type": "markdown",
   "metadata": {},
   "source": [
    "Perform mcmc"
   ]
  },
  {
   "cell_type": "code",
   "execution_count": 9,
   "metadata": {},
   "outputs": [],
   "source": [
    "mcmc <- sampling(mod,data=data,iter=2000,warmup=1000,open_progress=TRUE)"
   ]
  },
  {
   "cell_type": "code",
   "execution_count": 10,
   "metadata": {},
   "outputs": [
    {
     "data": {
      "text/plain": [
       "Inference for Stan model: f6a593bd1d150b083482aed6d79f4a99.\n",
       "4 chains, each with iter=2000; warmup=1000; thin=1; \n",
       "post-warmup draws per chain=1000, total post-warmup draws=4000.\n",
       "\n",
       "           mean se_mean   sd   2.5%    25%    50%    75%  97.5% n_eff Rhat\n",
       "PHI[1,1]   0.14    0.00 0.07   0.01   0.10   0.14   0.19   0.28  5709    1\n",
       "PHI[1,2]  -0.34    0.00 0.08  -0.50  -0.39  -0.34  -0.29  -0.19  4913    1\n",
       "PHI[1,3]   0.01    0.00 0.01  -0.01   0.00   0.01   0.01   0.02  6423    1\n",
       "PHI[2,1]  -0.27    0.00 0.01  -0.28  -0.27  -0.27  -0.26  -0.25  7750    1\n",
       "PHI[2,2]   0.58    0.00 0.01   0.57   0.58   0.58   0.59   0.60  7820    1\n",
       "PHI[2,3]   0.01    0.00 0.00   0.01   0.01   0.01   0.01   0.02  4400    1\n",
       "PHI[3,1]  -0.34    0.01 0.45  -1.23  -0.64  -0.33  -0.03   0.55  6652    1\n",
       "PHI[3,2]  -0.33    0.01 0.48  -1.27  -0.65  -0.33   0.00   0.61  5256    1\n",
       "PHI[3,3]   0.75    0.00 0.05   0.65   0.71   0.74   0.78   0.85  6961    1\n",
       "sigma[1]   0.13    0.00 0.01   0.12   0.12   0.13   0.13   0.14  7149    1\n",
       "sigma[2]   0.01    0.00 0.00   0.01   0.01   0.01   0.02   0.02  5809    1\n",
       "sigma[3]   0.84    0.00 0.04   0.76   0.81   0.84   0.87   0.93  6329    1\n",
       "init[1]    0.11    0.00 0.12  -0.13   0.03   0.12   0.20   0.36  8287    1\n",
       "init[2]   -1.18    0.00 0.01  -1.21  -1.19  -1.18  -1.17  -1.15  7242    1\n",
       "init[3]   -0.54    0.01 0.83  -2.16  -1.10  -0.53   0.03   1.05  6977    1\n",
       "lp__     985.41    0.07 2.66 979.41 983.83 985.69 987.33 989.71  1628    1\n",
       "\n",
       "Samples were drawn using NUTS(diag_e) at Sun Dec 29 10:25:35 2019.\n",
       "For each parameter, n_eff is a crude measure of effective sample size,\n",
       "and Rhat is the potential scale reduction factor on split chains (at \n",
       "convergence, Rhat=1)."
      ]
     },
     "metadata": {},
     "output_type": "display_data"
    }
   ],
   "source": [
    "mcmc"
   ]
  },
  {
   "cell_type": "markdown",
   "metadata": {},
   "source": [
    "### Investigating the stochastic forcing matrix\n",
    "Here we relax the assumption of independent forcing and specify a covariance matrix with non zero off diagonal elements\n",
    "\n",
    "$$ \\mathbf{\\Sigma} = \\begin{bmatrix} \\sigma_{1,1} & \\sigma_{1,2} & \\cdots & \\sigma_{1,p}\\\\\n",
    "                                    \\sigma_{2,1} & \\sigma_{2,2} & \\ddots & \\vdots \\\\\n",
    "                                    \\vdots & \\ddots & \\ddots & \\vdots \\\\\n",
    "                                    \\sigma_{p,1} & \\cdots & \\cdots & \\sigma_{p,p} \\end{bmatrix}   $$"
   ]
  },
  {
   "cell_type": "markdown",
   "metadata": {},
   "source": [
    "Generate a random matrix that is a proper covariance matrix, i.e. it is positive semi-definite"
   ]
  },
  {
   "cell_type": "code",
   "execution_count": 24,
   "metadata": {},
   "outputs": [
    {
     "data": {
      "text/html": [
       "<table>\n",
       "<caption>A matrix: 3 × 3 of type dbl</caption>\n",
       "<tbody>\n",
       "\t<tr><td> 0.63758310</td><td>-0.6911165</td><td>-0.02680164</td></tr>\n",
       "\t<tr><td>-0.69111654</td><td> 1.2422077</td><td>-0.13816009</td></tr>\n",
       "\t<tr><td>-0.02680164</td><td>-0.1381601</td><td> 0.89284807</td></tr>\n",
       "</tbody>\n",
       "</table>\n"
      ],
      "text/latex": [
       "A matrix: 3 × 3 of type dbl\n",
       "\\begin{tabular}{lll}\n",
       "\t  0.63758310 & -0.6911165 & -0.02680164\\\\\n",
       "\t -0.69111654 &  1.2422077 & -0.13816009\\\\\n",
       "\t -0.02680164 & -0.1381601 &  0.89284807\\\\\n",
       "\\end{tabular}\n"
      ],
      "text/markdown": [
       "\n",
       "A matrix: 3 × 3 of type dbl\n",
       "\n",
       "|  0.63758310 | -0.6911165 | -0.02680164 |\n",
       "| -0.69111654 |  1.2422077 | -0.13816009 |\n",
       "| -0.02680164 | -0.1381601 |  0.89284807 |\n",
       "\n"
      ],
      "text/plain": [
       "     [,1]        [,2]       [,3]       \n",
       "[1,]  0.63758310 -0.6911165 -0.02680164\n",
       "[2,] -0.69111654  1.2422077 -0.13816009\n",
       "[3,] -0.02680164 -0.1381601  0.89284807"
      ]
     },
     "metadata": {},
     "output_type": "display_data"
    }
   ],
   "source": [
    "A      <- matrix(runif(p^2)*2-1, ncol=p)   #generate random numbers\n",
    "SIGMA2 <- t(A) %*% A   \n",
    "SIGMA2"
   ]
  },
  {
   "cell_type": "markdown",
   "metadata": {},
   "source": [
    "Simulate synthetic time series with the covariance matrix above"
   ]
  },
  {
   "cell_type": "code",
   "execution_count": 25,
   "metadata": {},
   "outputs": [],
   "source": [
    "T      <- 200\n",
    "y20    <- rnorm(p)\n",
    "Y2     <- matrix(NA,p,T)\n",
    "Y2[,1] <- y20\n",
    "\n",
    "for(t in 2:T){\n",
    "    Y2[,t] <- PHI%*%Y2[,t-1] + mvrnorm(1,rep(0,3),SIGMA2)}"
   ]
  },
  {
   "cell_type": "markdown",
   "metadata": {},
   "source": [
    "Plot the time series"
   ]
  },
  {
   "cell_type": "code",
   "execution_count": 27,
   "metadata": {},
   "outputs": [
    {
     "data": {
      "image/png": "[encoded data removed]",
      "text/plain": [
       "plot without title"
      ]
     },
     "metadata": {},
     "output_type": "display_data"
    }
   ],
   "source": [
    "options(repr.plot.width=6, repr.plot.height=4)\n",
    "matplot(t(Y2),type='l')"
   ]
  },
  {
   "cell_type": "markdown",
   "metadata": {},
   "source": [
    "Package the data"
   ]
  },
  {
   "cell_type": "code",
   "execution_count": 28,
   "metadata": {},
   "outputs": [],
   "source": [
    "data2 <- list(p=p,T=T,Y=Y2)"
   ]
  },
  {
   "cell_type": "markdown",
   "metadata": {},
   "source": [
    "We estimate the full covariance in the Stan code below.\n",
    "We make use of the very handy parameter type `cov_matrix` which maintains the positive semi-definite requirement throughout the mcmc iterations."
   ]
  },
  {
   "cell_type": "code",
   "execution_count": 29,
   "metadata": {},
   "outputs": [],
   "source": [
    "mod_code_cov <- \"data {\n",
    "\tint T;         //length of time series\n",
    "\tint p;         //number of variables\n",
    "\tmatrix[p,T] Y; //matrix of observations; variables are rows; time is columns\n",
    "}\n",
    "parameters{\n",
    "\tmatrix[p,p] PHI;     //dynamics matrix\n",
    "\tcov_matrix[p] SIGMA; //co-variance matrix of stochastic forcing\n",
    "\tvector[p] init;      //mean of initial conditions as parameter vector\n",
    "}\n",
    "model{\n",
    "\tY[,1] ~ multi_normal(init, SIGMA);           //distribution of the initial conditions\n",
    "\tfor(i in 2:T){\n",
    "\t\tY[,i] ~ multi_normal(PHI*Y[,i-1],SIGMA); //conditional predictive distribution\n",
    "\t}\n",
    "}\""
   ]
  },
  {
   "cell_type": "markdown",
   "metadata": {},
   "source": [
    "Compile the model"
   ]
  },
  {
   "cell_type": "code",
   "execution_count": 30,
   "metadata": {},
   "outputs": [],
   "source": [
    "mod_cov <- stan_model(model_code=mod_code_cov)"
   ]
  },
  {
   "cell_type": "markdown",
   "metadata": {},
   "source": [
    "Perform mcmc"
   ]
  },
  {
   "cell_type": "code",
   "execution_count": 31,
   "metadata": {},
   "outputs": [],
   "source": [
    "mcmc_cov <- sampling(mod_cov,data=data2,chains=4,open_progress=TRUE)"
   ]
  },
  {
   "cell_type": "code",
   "execution_count": 32,
   "metadata": {},
   "outputs": [
    {
     "data": {
      "text/plain": [
       "Inference for Stan model: e6d8967789fad31353e0995a8fbf8293.\n",
       "4 chains, each with iter=2000; warmup=1000; thin=1; \n",
       "post-warmup draws per chain=1000, total post-warmup draws=4000.\n",
       "\n",
       "              mean se_mean   sd    2.5%     25%     50%     75%   97.5% n_eff\n",
       "PHI[1,1]      0.89    0.00 0.03    0.83    0.87    0.89    0.92    0.95  2320\n",
       "PHI[1,2]      0.08    0.00 0.04   -0.01    0.05    0.08    0.11    0.16  2867\n",
       "PHI[1,3]      0.14    0.00 0.04    0.05    0.11    0.13    0.17    0.22  2195\n",
       "PHI[2,1]      0.02    0.00 0.05   -0.08   -0.02    0.01    0.05    0.11  2121\n",
       "PHI[2,2]      0.59    0.00 0.06    0.46    0.54    0.59    0.63    0.71  2796\n",
       "PHI[2,3]      0.04    0.00 0.06   -0.09   -0.01    0.04    0.08    0.16  2197\n",
       "PHI[3,1]      0.21    0.00 0.04    0.12    0.18    0.21    0.23    0.29  2735\n",
       "PHI[3,2]      0.15    0.00 0.06    0.04    0.11    0.15    0.19    0.26  3993\n",
       "PHI[3,3]      0.62    0.00 0.06    0.52    0.59    0.62    0.66    0.74  2817\n",
       "SIGMA[1,1]    0.65    0.00 0.07    0.53    0.60    0.64    0.69    0.80  3311\n",
       "SIGMA[1,2]   -0.78    0.00 0.09   -0.97   -0.83   -0.77   -0.71   -0.62  3032\n",
       "SIGMA[1,3]   -0.04    0.00 0.06   -0.17   -0.08   -0.04    0.00    0.08  4897\n",
       "SIGMA[2,1]   -0.78    0.00 0.09   -0.97   -0.83   -0.77   -0.71   -0.62  3032\n",
       "SIGMA[2,2]    1.44    0.00 0.15    1.17    1.33    1.43    1.53    1.75  3367\n",
       "SIGMA[2,3]   -0.10    0.00 0.09   -0.28   -0.16   -0.10   -0.04    0.08  5214\n",
       "SIGMA[3,1]   -0.04    0.00 0.06   -0.17   -0.08   -0.04    0.00    0.08  4897\n",
       "SIGMA[3,2]   -0.10    0.00 0.09   -0.28   -0.16   -0.10   -0.04    0.08  5214\n",
       "SIGMA[3,3]    1.09    0.00 0.11    0.89    1.01    1.08    1.16    1.33  4632\n",
       "init[1]       1.51    0.02 0.82   -0.11    0.96    1.52    2.07    3.13  2954\n",
       "init[2]       0.70    0.02 1.21   -1.65   -0.10    0.71    1.50    3.07  2770\n",
       "init[3]       0.56    0.01 1.06   -1.45   -0.14    0.55    1.26    2.68  5126\n",
       "lp__       -183.03    0.08 3.07 -190.05 -184.84 -182.65 -180.82 -178.11  1643\n",
       "           Rhat\n",
       "PHI[1,1]      1\n",
       "PHI[1,2]      1\n",
       "PHI[1,3]      1\n",
       "PHI[2,1]      1\n",
       "PHI[2,2]      1\n",
       "PHI[2,3]      1\n",
       "PHI[3,1]      1\n",
       "PHI[3,2]      1\n",
       "PHI[3,3]      1\n",
       "SIGMA[1,1]    1\n",
       "SIGMA[1,2]    1\n",
       "SIGMA[1,3]    1\n",
       "SIGMA[2,1]    1\n",
       "SIGMA[2,2]    1\n",
       "SIGMA[2,3]    1\n",
       "SIGMA[3,1]    1\n",
       "SIGMA[3,2]    1\n",
       "SIGMA[3,3]    1\n",
       "init[1]       1\n",
       "init[2]       1\n",
       "init[3]       1\n",
       "lp__          1\n",
       "\n",
       "Samples were drawn using NUTS(diag_e) at Sun Dec 29 10:50:53 2019.\n",
       "For each parameter, n_eff is a crude measure of effective sample size,\n",
       "and Rhat is the potential scale reduction factor on split chains (at \n",
       "convergence, Rhat=1)."
      ]
     },
     "metadata": {},
     "output_type": "display_data"
    }
   ],
   "source": [
    "mcmc_cov"
   ]
  },
  {
   "cell_type": "markdown",
   "metadata": {},
   "source": [
    "### Incorporating informative priors on the structure of the dynamics\n",
    "\n",
    "Here we will impose informative priors on particular elements of the $\\mathbf{\\Phi}$\n",
    "\n",
    "The Stan code below imposes the following structure on $\\mathbf{\\Phi}$:\n",
    "\n",
    "$$ \\mathbf{\\Phi} = \\begin{bmatrix} \\phi_{1,1} & \\phi_{1,2} & 0 \\\\ \n",
    "                                \\phi_{2,1} & \\phi_{2,2} & \\phi_{2,3}\\\\\n",
    "                                0       & \\phi_{3,2} & \\phi_{3,3} \\end{bmatrix} $$"
   ]
  },
  {
   "cell_type": "code",
   "execution_count": 11,
   "metadata": {},
   "outputs": [],
   "source": [
    "mod_code_D_struc <- \"data {\n",
    "\tint T;         //length of time series\n",
    "\tint p;         //number of variables\n",
    "\tmatrix[p,T] Y; //matrix of observations; variables are rows; time is columns\n",
    "}\n",
    "parameters{\n",
    "\tmatrix[p,p] PHI;               //dynamics matrix\n",
    "\tvector<lower=1E-15>[p] sigma;  //variances of stochastic forcing\n",
    "\tvector[p] init;                //mean of initial conditions as parameter vector\n",
    "}\n",
    "model{\n",
    "    PHI[1,3] ~ normal(0,1E-3);\n",
    "    PHI[3,1] ~ normal(0,1E-3);\n",
    "\n",
    "\tY[,1] ~ normal(init, sigma);           //distribution of the initial conditions\n",
    "\tfor(i in 2:T){\n",
    "\t\tY[,i] ~ normal(PHI*Y[,i-1],sigma); //conditional predictive distribution\n",
    "\t}\n",
    "}\""
   ]
  },
  {
   "cell_type": "code",
   "execution_count": 12,
   "metadata": {},
   "outputs": [],
   "source": [
    "mod_struc <- stan_model(model_code=mod_code_D_struc)"
   ]
  },
  {
   "cell_type": "code",
   "execution_count": 13,
   "metadata": {},
   "outputs": [],
   "source": [
    "mcmc_struc <- sampling(mod_struc,data=data,chains=4,open_progress=TRUE)"
   ]
  },
  {
   "cell_type": "code",
   "execution_count": 14,
   "metadata": {},
   "outputs": [
    {
     "data": {
      "text/plain": [
       "Inference for Stan model: 4244507c4c9e43c3755b1db25ce9f318.\n",
       "4 chains, each with iter=2000; warmup=1000; thin=1; \n",
       "post-warmup draws per chain=1000, total post-warmup draws=4000.\n",
       "\n",
       "           mean se_mean   sd   2.5%    25%    50%    75%  97.5% n_eff Rhat\n",
       "PHI[1,1]   0.15    0.00 0.07   0.01   0.10   0.15   0.20   0.29  5476    1\n",
       "PHI[1,2]  -0.33    0.00 0.07  -0.47  -0.38  -0.32  -0.28  -0.18  5059    1\n",
       "PHI[1,3]   0.00    0.00 0.00   0.00   0.00   0.00   0.00   0.00  3702    1\n",
       "PHI[2,1]  -0.27    0.00 0.01  -0.28  -0.27  -0.27  -0.26  -0.25  5902    1\n",
       "PHI[2,2]   0.58    0.00 0.01   0.57   0.58   0.58   0.59   0.60  5833    1\n",
       "PHI[2,3]   0.01    0.00 0.00   0.01   0.01   0.01   0.01   0.02  3814    1\n",
       "PHI[3,1]   0.00    0.00 0.00   0.00   0.00   0.00   0.00   0.00  4060    1\n",
       "PHI[3,2]  -0.21    0.01 0.45  -1.08  -0.52  -0.21   0.09   0.66  5205    1\n",
       "PHI[3,3]   0.74    0.00 0.05   0.64   0.71   0.74   0.78   0.85  6645    1\n",
       "sigma[1]   0.13    0.00 0.01   0.12   0.12   0.13   0.13   0.14  5752    1\n",
       "sigma[2]   0.01    0.00 0.00   0.01   0.01   0.01   0.02   0.02  6602    1\n",
       "sigma[3]   0.84    0.00 0.04   0.76   0.81   0.84   0.87   0.93  5201    1\n",
       "init[1]    0.12    0.00 0.13  -0.14   0.03   0.12   0.21   0.38  5625    1\n",
       "init[2]   -1.18    0.00 0.01  -1.21  -1.19  -1.18  -1.17  -1.15  6054    1\n",
       "init[3]   -0.52    0.01 0.86  -2.20  -1.10  -0.52   0.06   1.17  6930    1\n",
       "lp__     984.39    0.07 2.72 978.20 982.71 984.68 986.35 988.77  1716    1\n",
       "\n",
       "Samples were drawn using NUTS(diag_e) at Sun Dec 29 10:27:54 2019.\n",
       "For each parameter, n_eff is a crude measure of effective sample size,\n",
       "and Rhat is the potential scale reduction factor on split chains (at \n",
       "convergence, Rhat=1)."
      ]
     },
     "metadata": {},
     "output_type": "display_data"
    }
   ],
   "source": [
    "mcmc_struc"
   ]
  }
 ],
 "metadata": {
  "@webio": {
   "lastCommId": null,
   "lastKernelId": null
  },
  "kernelspec": {
   "display_name": "R",
   "language": "R",
   "name": "ir"
  },
  "language_info": {
   "codemirror_mode": "r",
   "file_extension": ".r",
   "mimetype": "text/x-r-source",
   "name": "R",
   "pygments_lexer": "r",
   "version": "3.6.1"
  }
 },
 "nbformat": 4,
 "nbformat_minor": 2
}
