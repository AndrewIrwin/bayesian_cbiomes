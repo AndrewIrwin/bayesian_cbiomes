{
 "cells": [
  {
   "cell_type": "markdown",
   "metadata": {},
   "source": [
    "## Multivariate autoregressive model example\n",
    "\n",
    "In this case study we analyze multivariate time series using generic linear stochastic dynamical systems models. \n",
    "We will use these models to analyze multispecies time series and extract information on time series interactions and forcing.\n",
    "\n",
    "The model we will analyze is given as \n",
    "\n",
    "$$ \\mathbf{x}(t+1) = \\mathbf{\\Phi} \\mathbf{x}(t) + \\mathbf{e}(t) $$\n",
    "\n",
    "where $\\mathbf{x}(t)$ is a multivariate time series at time $t$, $\\mathbf{\\Phi}$ is the linear dynamics matrix, and $\\mathbf{e}(t)$ is a realization of a stochastic variable, assumed here multivariate normal with mean vector zero and covariance matrix, $\\mathcal{N}(\\mathbf{\\mu},\\mathbf{\\Sigma})$.\n",
    "\n",
    "In general, we can think of this model as a first order approximation to the dynamics of a more general multivariate dynamical system. \n",
    "In this context, the matrix $\\mathbf{\\Phi}$ would represent the Jacobian matrix, containing information on the discretized partial derivatives of each state variable with respect to each of the others. \n",
    "The matrix $\\mathbf{\\Sigma}$ contains information on the magnitude of stochastic forcing as well as correlations among the variables responses."
   ]
  },
  {
   "cell_type": "markdown",
   "metadata": {},
   "source": [
    "To explore this model we will first simulate some data"
   ]
  },
  {
   "cell_type": "code",
   "execution_count": 3,
   "metadata": {},
   "outputs": [],
   "source": [
    "library(MASS)     #package for the multi-variate normal distribution\n",
    "library(rstan)\n",
    "options(mc.cores = parallel::detectCores())"
   ]
  },
  {
   "cell_type": "markdown",
   "metadata": {},
   "source": [
    "The procedure below uses some linear algebra (specifically the $QR$ decomposition) to generate a random matrix that will stable, i.e. that simulated time series won't blow-up.\n",
    "We do so by making the eigenvalues of the random matrix lie between 0 and 1."
   ]
  },
  {
   "cell_type": "code",
   "execution_count": 4,
   "metadata": {},
   "outputs": [],
   "source": [
    "p     <- 3\n",
    "\n",
    "SIGMA  <- diag(runif(p))   #generate random numbers\n",
    "\n",
    "eig    <- runif(p,0,1)\n",
    "Z      <- matrix(ncol=p, rnorm(p^2))\n",
    "decomp <- qr(Z)\n",
    "Q      <- qr.Q(decomp)\n",
    "R      <- qr.R(decomp)\n",
    "d      <- diag(R)\n",
    "ph     <- d / abs(d)\n",
    "O      <- Q %*% diag(ph)\n",
    "PHI    <- t(O) %*% diag(eig) %*% O"
   ]
  },
  {
   "cell_type": "markdown",
   "metadata": {},
   "source": [
    "We simulate time series given the specified parameters. \n",
    "Notice we are drawing a multivariate normal realization every time step with mean zero and covariance matrix `SIGMA`."
   ]
  },
  {
   "cell_type": "code",
   "execution_count": 5,
   "metadata": {},
   "outputs": [],
   "source": [
    "T  <- 200\n",
    "y0 <- rnorm(p)\n",
    "Y     <- matrix(NA,p,T)\n",
    "Y[,1] <- y0\n",
    "\n",
    "for(t in 2:T){\n",
    "    Y[,t] <- PHI%*%Y[,t-1] + mvrnorm(1,rep(0,3),SIGMA)}"
   ]
  },
  {
   "cell_type": "code",
   "execution_count": 12,
   "metadata": {},
   "outputs": [
    {
     "data": {
      "text/html": [
       "<table>\n",
       "<caption>A matrix: 3 × 3 of type dbl</caption>\n",
       "<tbody>\n",
       "\t<tr><td> 0.52023727</td><td>-0.02753966</td><td>0.06854805</td></tr>\n",
       "\t<tr><td>-0.02753966</td><td> 0.23234549</td><td>0.08966193</td></tr>\n",
       "\t<tr><td> 0.06854805</td><td> 0.08966193</td><td>0.37334312</td></tr>\n",
       "</tbody>\n",
       "</table>\n"
      ],
      "text/latex": [
       "A matrix: 3 × 3 of type dbl\n",
       "\\begin{tabular}{lll}\n",
       "\t  0.52023727 & -0.02753966 & 0.06854805\\\\\n",
       "\t -0.02753966 &  0.23234549 & 0.08966193\\\\\n",
       "\t  0.06854805 &  0.08966193 & 0.37334312\\\\\n",
       "\\end{tabular}\n"
      ],
      "text/markdown": [
       "\n",
       "A matrix: 3 × 3 of type dbl\n",
       "\n",
       "|  0.52023727 | -0.02753966 | 0.06854805 |\n",
       "| -0.02753966 |  0.23234549 | 0.08966193 |\n",
       "|  0.06854805 |  0.08966193 | 0.37334312 |\n",
       "\n"
      ],
      "text/plain": [
       "     [,1]        [,2]        [,3]      \n",
       "[1,]  0.52023727 -0.02753966 0.06854805\n",
       "[2,] -0.02753966  0.23234549 0.08966193\n",
       "[3,]  0.06854805  0.08966193 0.37334312"
      ]
     },
     "metadata": {},
     "output_type": "display_data"
    }
   ],
   "source": [
    "PHI"
   ]
  },
  {
   "cell_type": "code",
   "execution_count": null,
   "metadata": {},
   "outputs": [],
   "source": []
  },
  {
   "cell_type": "markdown",
   "metadata": {},
   "source": [
    "Plot the system"
   ]
  },
  {
   "cell_type": "code",
   "execution_count": 6,
   "metadata": {},
   "outputs": [
    {
     "data": {
      "image/png": "[encoded data removed]",
      "text/plain": [
       "plot without title"
      ]
     },
     "metadata": {},
     "output_type": "display_data"
    }
   ],
   "source": [
    "options(repr.plot.width=6, repr.plot.height=4)\n",
    "matplot(t(Y),type='l')"
   ]
  },
  {
   "cell_type": "markdown",
   "metadata": {},
   "source": [
    "The Stan code below implements the first order multivariate model.\n",
    "As per usual, we pass Stan the data and its dimensions in the `data` block.\n",
    "In the `parameters` block, we define the linear dynamics matrix `PHI` which has as many rows and columns as there are time series.\n",
    "In this case we assume the covariance matrix is of the form\n",
    "\n",
    "$$ \\mathbf{\\Sigma} = \\begin{bmatrix} \\sigma_{1,1} & 0 & \\cdots & 0\\\\\n",
    "                                    0 & \\sigma_{2,2} & \\ddots & \\vdots \\\\\n",
    "                                    \\vdots & \\ddots & \\ddots & \\vdots \\\\\n",
    "                                    0 & \\cdots & \\cdots & \\sigma_{p,p} \\end{bmatrix}   $$\n",
    "                                    \n",
    "which means that each species in the mulispecies time series responds to the environment independently."
   ]
  },
  {
   "cell_type": "code",
   "execution_count": 7,
   "metadata": {},
   "outputs": [],
   "source": [
    "mod_code <- \"data {\n",
    "\tint T;         //length of time series\n",
    "\tint p;         //number of variables\n",
    "\tmatrix[p,T] Y; //matrix of observations; variables are rows; time is columns\n",
    "}\n",
    "parameters{\n",
    "\tmatrix[p,p] PHI;     //dynamics matrix\n",
    "\tvector<lower=1E-15>[p] sigma;     //variances of stochastic forcing\n",
    "\tvector[p] init;      //mean of initial conditions as parameter vector\n",
    "}\n",
    "model{\n",
    "\tY[,1] ~ normal(init, sigma);           //distribution of the initial conditions\n",
    "\tfor(i in 2:T){\n",
    "\t\tY[,i] ~ normal(PHI*Y[,i-1],sigma); //conditional predictive distribution\n",
    "\t}\n",
    "}\""
   ]
  },
  {
   "cell_type": "markdown",
   "metadata": {},
   "source": [
    "Compile the model"
   ]
  },
  {
   "cell_type": "code",
   "execution_count": 8,
   "metadata": {},
   "outputs": [],
   "source": [
    "mod <- stan_model(model_code=mod_code)"
   ]
  },
  {
   "cell_type": "markdown",
   "metadata": {},
   "source": [
    "Organize the data for Stan"
   ]
  },
  {
   "cell_type": "code",
   "execution_count": 9,
   "metadata": {},
   "outputs": [],
   "source": [
    "data <- list(p=p,T=T,Y=Y)"
   ]
  },
  {
   "cell_type": "markdown",
   "metadata": {},
   "source": [
    "Perform mcmc"
   ]
  },
  {
   "cell_type": "code",
   "execution_count": 10,
   "metadata": {},
   "outputs": [],
   "source": [
    "mcmc <- sampling(mod,data=data,iter=2000,warmup=1000,open_progress=TRUE)"
   ]
  },
  {
   "cell_type": "code",
   "execution_count": 11,
   "metadata": {},
   "outputs": [
    {
     "data": {
      "text/plain": [
       "Inference for Stan model: f6a593bd1d150b083482aed6d79f4a99.\n",
       "4 chains, each with iter=2000; warmup=1000; thin=1; \n",
       "post-warmup draws per chain=1000, total post-warmup draws=4000.\n",
       "\n",
       "            mean se_mean   sd    2.5%     25%     50%     75%   97.5% n_eff\n",
       "PHI[1,1]    0.57    0.00 0.06    0.45    0.53    0.57    0.61    0.69  8701\n",
       "PHI[1,2]   -0.05    0.00 0.07   -0.19   -0.10   -0.05    0.00    0.09  8661\n",
       "PHI[1,3]   -0.09    0.00 0.15   -0.39   -0.19   -0.09    0.01    0.20  8401\n",
       "PHI[2,1]   -0.01    0.00 0.06   -0.13   -0.05   -0.01    0.03    0.11  7480\n",
       "PHI[2,2]    0.22    0.00 0.07    0.08    0.17    0.22    0.27    0.37  8097\n",
       "PHI[2,3]   -0.04    0.00 0.15   -0.33   -0.14   -0.04    0.07    0.27  8677\n",
       "PHI[3,1]    0.10    0.00 0.03    0.05    0.08    0.10    0.12    0.15  8624\n",
       "PHI[3,2]    0.10    0.00 0.03    0.05    0.08    0.10    0.13    0.17  8394\n",
       "PHI[3,3]    0.26    0.00 0.06    0.13    0.22    0.26    0.30    0.38  9820\n",
       "sigma[1]    0.99    0.00 0.05    0.90    0.96    0.99    1.02    1.10 11163\n",
       "sigma[2]    1.00    0.00 0.05    0.90    0.96    0.99    1.03    1.10  9189\n",
       "sigma[3]    0.42    0.00 0.02    0.38    0.40    0.42    0.43    0.46  7995\n",
       "init[1]     0.13    0.01 0.97   -1.80   -0.52    0.13    0.78    2.03  8003\n",
       "init[2]    -0.77    0.01 1.00   -2.72   -1.45   -0.78   -0.12    1.23  9515\n",
       "init[3]    -1.00    0.00 0.40   -1.79   -1.27   -1.00   -0.72   -0.22  8972\n",
       "lp__     -121.67    0.07 2.78 -127.82 -123.39 -121.34 -119.63 -117.21  1414\n",
       "         Rhat\n",
       "PHI[1,1]    1\n",
       "PHI[1,2]    1\n",
       "PHI[1,3]    1\n",
       "PHI[2,1]    1\n",
       "PHI[2,2]    1\n",
       "PHI[2,3]    1\n",
       "PHI[3,1]    1\n",
       "PHI[3,2]    1\n",
       "PHI[3,3]    1\n",
       "sigma[1]    1\n",
       "sigma[2]    1\n",
       "sigma[3]    1\n",
       "init[1]     1\n",
       "init[2]     1\n",
       "init[3]     1\n",
       "lp__        1\n",
       "\n",
       "Samples were drawn using NUTS(diag_e) at Thu Jan 09 09:49:19 2020.\n",
       "For each parameter, n_eff is a crude measure of effective sample size,\n",
       "and Rhat is the potential scale reduction factor on split chains (at \n",
       "convergence, Rhat=1)."
      ]
     },
     "metadata": {},
     "output_type": "display_data"
    }
   ],
   "source": [
    "mcmc"
   ]
  },
  {
   "cell_type": "code",
   "execution_count": 13,
   "metadata": {},
   "outputs": [
    {
     "data": {
      "text/html": [
       "<table>\n",
       "<caption>A matrix: 3 × 3 of type dbl</caption>\n",
       "<tbody>\n",
       "\t<tr><td> 0.52023727</td><td>-0.02753966</td><td>0.06854805</td></tr>\n",
       "\t<tr><td>-0.02753966</td><td> 0.23234549</td><td>0.08966193</td></tr>\n",
       "\t<tr><td> 0.06854805</td><td> 0.08966193</td><td>0.37334312</td></tr>\n",
       "</tbody>\n",
       "</table>\n"
      ],
      "text/latex": [
       "A matrix: 3 × 3 of type dbl\n",
       "\\begin{tabular}{lll}\n",
       "\t  0.52023727 & -0.02753966 & 0.06854805\\\\\n",
       "\t -0.02753966 &  0.23234549 & 0.08966193\\\\\n",
       "\t  0.06854805 &  0.08966193 & 0.37334312\\\\\n",
       "\\end{tabular}\n"
      ],
      "text/markdown": [
       "\n",
       "A matrix: 3 × 3 of type dbl\n",
       "\n",
       "|  0.52023727 | -0.02753966 | 0.06854805 |\n",
       "| -0.02753966 |  0.23234549 | 0.08966193 |\n",
       "|  0.06854805 |  0.08966193 | 0.37334312 |\n",
       "\n"
      ],
      "text/plain": [
       "     [,1]        [,2]        [,3]      \n",
       "[1,]  0.52023727 -0.02753966 0.06854805\n",
       "[2,] -0.02753966  0.23234549 0.08966193\n",
       "[3,]  0.06854805  0.08966193 0.37334312"
      ]
     },
     "metadata": {},
     "output_type": "display_data"
    }
   ],
   "source": [
    "PHI"
   ]
  },
  {
   "cell_type": "code",
   "execution_count": 19,
   "metadata": {},
   "outputs": [],
   "source": [
    "post <- extract(mcmc)"
   ]
  },
  {
   "cell_type": "code",
   "execution_count": 22,
   "metadata": {},
   "outputs": [
    {
     "data": {
      "image/png": "[encoded data removed]",
      "text/plain": [
       "Plot with title \"\""
      ]
     },
     "metadata": {},
     "output_type": "display_data"
    }
   ],
   "source": [
    "par(mfrow=c(3,3),mar=c(2,2,2,2))\n",
    "for(i in 1:3){\n",
    "    for(j in 1:3){\n",
    "        hist(post$PHI[,i,j],main='')\n",
    "        abline()\n",
    "    }\n",
    "}"
   ]
  },
  {
   "cell_type": "markdown",
   "metadata": {},
   "source": [
    "### Investigating the stochastic forcing matrix\n",
    "Here we relax the assumption of independent forcing and specify a covariance matrix with non zero off diagonal elements\n",
    "\n",
    "$$ \\mathbf{\\Sigma} = \\begin{bmatrix} \\sigma_{1,1} & \\sigma_{1,2} & \\cdots & \\sigma_{1,p}\\\\\n",
    "                                    \\sigma_{2,1} & \\sigma_{2,2} & \\ddots & \\vdots \\\\\n",
    "                                    \\vdots & \\ddots & \\ddots & \\vdots \\\\\n",
    "                                    \\sigma_{p,1} & \\cdots & \\cdots & \\sigma_{p,p} \\end{bmatrix}   $$"
   ]
  },
  {
   "cell_type": "markdown",
   "metadata": {},
   "source": [
    "Generate a random matrix that is a proper covariance matrix, i.e. it is positive semi-definite"
   ]
  },
  {
   "cell_type": "code",
   "execution_count": 14,
   "metadata": {},
   "outputs": [
    {
     "data": {
      "text/html": [
       "<table>\n",
       "<caption>A matrix: 3 × 3 of type dbl</caption>\n",
       "<tbody>\n",
       "\t<tr><td> 1.2500531</td><td>-0.5567941</td><td> 0.7202320</td></tr>\n",
       "\t<tr><td>-0.5567941</td><td> 0.2621043</td><td>-0.2863828</td></tr>\n",
       "\t<tr><td> 0.7202320</td><td>-0.2863828</td><td> 0.5911909</td></tr>\n",
       "</tbody>\n",
       "</table>\n"
      ],
      "text/latex": [
       "A matrix: 3 × 3 of type dbl\n",
       "\\begin{tabular}{lll}\n",
       "\t  1.2500531 & -0.5567941 &  0.7202320\\\\\n",
       "\t -0.5567941 &  0.2621043 & -0.2863828\\\\\n",
       "\t  0.7202320 & -0.2863828 &  0.5911909\\\\\n",
       "\\end{tabular}\n"
      ],
      "text/markdown": [
       "\n",
       "A matrix: 3 × 3 of type dbl\n",
       "\n",
       "|  1.2500531 | -0.5567941 |  0.7202320 |\n",
       "| -0.5567941 |  0.2621043 | -0.2863828 |\n",
       "|  0.7202320 | -0.2863828 |  0.5911909 |\n",
       "\n"
      ],
      "text/plain": [
       "     [,1]       [,2]       [,3]      \n",
       "[1,]  1.2500531 -0.5567941  0.7202320\n",
       "[2,] -0.5567941  0.2621043 -0.2863828\n",
       "[3,]  0.7202320 -0.2863828  0.5911909"
      ]
     },
     "metadata": {},
     "output_type": "display_data"
    }
   ],
   "source": [
    "A      <- matrix(runif(p^2)*2-1, ncol=p)   #generate random numbers\n",
    "SIGMA2 <- t(A) %*% A   \n",
    "SIGMA2"
   ]
  },
  {
   "cell_type": "markdown",
   "metadata": {},
   "source": [
    "Simulate synthetic time series with the covariance matrix above"
   ]
  },
  {
   "cell_type": "code",
   "execution_count": 15,
   "metadata": {},
   "outputs": [],
   "source": [
    "T      <- 200\n",
    "y20    <- rnorm(p)\n",
    "Y2     <- matrix(NA,p,T)\n",
    "Y2[,1] <- y20\n",
    "\n",
    "for(t in 2:T){\n",
    "    Y2[,t] <- PHI%*%Y2[,t-1] + mvrnorm(1,rep(0,3),SIGMA2)}"
   ]
  },
  {
   "cell_type": "markdown",
   "metadata": {},
   "source": [
    "Plot the time series"
   ]
  },
  {
   "cell_type": "code",
   "execution_count": 16,
   "metadata": {},
   "outputs": [
    {
     "data": {
      "image/png": "[encoded data removed]",
      "text/plain": [
       "plot without title"
      ]
     },
     "metadata": {},
     "output_type": "display_data"
    }
   ],
   "source": [
    "options(repr.plot.width=6, repr.plot.height=4)\n",
    "matplot(t(Y2),type='l')"
   ]
  },
  {
   "cell_type": "markdown",
   "metadata": {},
   "source": [
    "Package the data"
   ]
  },
  {
   "cell_type": "code",
   "execution_count": 21,
   "metadata": {},
   "outputs": [],
   "source": [
    "data2 <- list(p=p,T=T,Y=Y2)"
   ]
  },
  {
   "cell_type": "markdown",
   "metadata": {},
   "source": [
    "We estimate the full covariance in the Stan code below.\n",
    "We make use of the very handy parameter type `cov_matrix` which maintains the positive semi-definite requirement throughout the mcmc iterations."
   ]
  },
  {
   "cell_type": "code",
   "execution_count": 17,
   "metadata": {},
   "outputs": [],
   "source": [
    "mod_code_cov <- \"data {\n",
    "\tint T;         //length of time series\n",
    "\tint p;         //number of variables\n",
    "\tmatrix[p,T] Y; //matrix of observations; variables are rows; time is columns\n",
    "}\n",
    "parameters{\n",
    "\tmatrix[p,p] PHI;     //dynamics matrix\n",
    "\tcov_matrix[p] SIGMA; //co-variance matrix of stochastic forcing\n",
    "\tvector[p] init;      //mean of initial conditions as parameter vector\n",
    "}\n",
    "model{\n",
    "\tY[,1] ~ multi_normal(init, SIGMA);           //distribution of the initial conditions\n",
    "\tfor(i in 2:T){\n",
    "\t\tY[,i] ~ multi_normal(PHI*Y[,i-1],SIGMA); //conditional predictive distribution\n",
    "\t}\n",
    "}\""
   ]
  },
  {
   "cell_type": "markdown",
   "metadata": {},
   "source": [
    "Compile the model"
   ]
  },
  {
   "cell_type": "code",
   "execution_count": 18,
   "metadata": {},
   "outputs": [],
   "source": [
    "mod_cov <- stan_model(model_code=mod_code_cov)"
   ]
  },
  {
   "cell_type": "markdown",
   "metadata": {},
   "source": [
    "Perform mcmc"
   ]
  },
  {
   "cell_type": "code",
   "execution_count": 22,
   "metadata": {},
   "outputs": [],
   "source": [
    "mcmc_cov <- sampling(mod_cov,data=data2,chains=4,open_progress=TRUE)"
   ]
  },
  {
   "cell_type": "code",
   "execution_count": 32,
   "metadata": {},
   "outputs": [
    {
     "data": {
      "text/plain": [
       "Inference for Stan model: e6d8967789fad31353e0995a8fbf8293.\n",
       "4 chains, each with iter=2000; warmup=1000; thin=1; \n",
       "post-warmup draws per chain=1000, total post-warmup draws=4000.\n",
       "\n",
       "              mean se_mean   sd    2.5%     25%     50%     75%   97.5% n_eff\n",
       "PHI[1,1]      0.89    0.00 0.03    0.83    0.87    0.89    0.92    0.95  2320\n",
       "PHI[1,2]      0.08    0.00 0.04   -0.01    0.05    0.08    0.11    0.16  2867\n",
       "PHI[1,3]      0.14    0.00 0.04    0.05    0.11    0.13    0.17    0.22  2195\n",
       "PHI[2,1]      0.02    0.00 0.05   -0.08   -0.02    0.01    0.05    0.11  2121\n",
       "PHI[2,2]      0.59    0.00 0.06    0.46    0.54    0.59    0.63    0.71  2796\n",
       "PHI[2,3]      0.04    0.00 0.06   -0.09   -0.01    0.04    0.08    0.16  2197\n",
       "PHI[3,1]      0.21    0.00 0.04    0.12    0.18    0.21    0.23    0.29  2735\n",
       "PHI[3,2]      0.15    0.00 0.06    0.04    0.11    0.15    0.19    0.26  3993\n",
       "PHI[3,3]      0.62    0.00 0.06    0.52    0.59    0.62    0.66    0.74  2817\n",
       "SIGMA[1,1]    0.65    0.00 0.07    0.53    0.60    0.64    0.69    0.80  3311\n",
       "SIGMA[1,2]   -0.78    0.00 0.09   -0.97   -0.83   -0.77   -0.71   -0.62  3032\n",
       "SIGMA[1,3]   -0.04    0.00 0.06   -0.17   -0.08   -0.04    0.00    0.08  4897\n",
       "SIGMA[2,1]   -0.78    0.00 0.09   -0.97   -0.83   -0.77   -0.71   -0.62  3032\n",
       "SIGMA[2,2]    1.44    0.00 0.15    1.17    1.33    1.43    1.53    1.75  3367\n",
       "SIGMA[2,3]   -0.10    0.00 0.09   -0.28   -0.16   -0.10   -0.04    0.08  5214\n",
       "SIGMA[3,1]   -0.04    0.00 0.06   -0.17   -0.08   -0.04    0.00    0.08  4897\n",
       "SIGMA[3,2]   -0.10    0.00 0.09   -0.28   -0.16   -0.10   -0.04    0.08  5214\n",
       "SIGMA[3,3]    1.09    0.00 0.11    0.89    1.01    1.08    1.16    1.33  4632\n",
       "init[1]       1.51    0.02 0.82   -0.11    0.96    1.52    2.07    3.13  2954\n",
       "init[2]       0.70    0.02 1.21   -1.65   -0.10    0.71    1.50    3.07  2770\n",
       "init[3]       0.56    0.01 1.06   -1.45   -0.14    0.55    1.26    2.68  5126\n",
       "lp__       -183.03    0.08 3.07 -190.05 -184.84 -182.65 -180.82 -178.11  1643\n",
       "           Rhat\n",
       "PHI[1,1]      1\n",
       "PHI[1,2]      1\n",
       "PHI[1,3]      1\n",
       "PHI[2,1]      1\n",
       "PHI[2,2]      1\n",
       "PHI[2,3]      1\n",
       "PHI[3,1]      1\n",
       "PHI[3,2]      1\n",
       "PHI[3,3]      1\n",
       "SIGMA[1,1]    1\n",
       "SIGMA[1,2]    1\n",
       "SIGMA[1,3]    1\n",
       "SIGMA[2,1]    1\n",
       "SIGMA[2,2]    1\n",
       "SIGMA[2,3]    1\n",
       "SIGMA[3,1]    1\n",
       "SIGMA[3,2]    1\n",
       "SIGMA[3,3]    1\n",
       "init[1]       1\n",
       "init[2]       1\n",
       "init[3]       1\n",
       "lp__          1\n",
       "\n",
       "Samples were drawn using NUTS(diag_e) at Sun Dec 29 10:50:53 2019.\n",
       "For each parameter, n_eff is a crude measure of effective sample size,\n",
       "and Rhat is the potential scale reduction factor on split chains (at \n",
       "convergence, Rhat=1)."
      ]
     },
     "metadata": {},
     "output_type": "display_data"
    }
   ],
   "source": [
    "mcmc_cov"
   ]
  },
  {
   "cell_type": "markdown",
   "metadata": {},
   "source": [
    "### Incorporating informative priors on the structure of the dynamics\n",
    "\n",
    "Here we will impose informative priors on particular elements of the $\\mathbf{\\Phi}$\n",
    "\n",
    "The Stan code below imposes the following structure on $\\mathbf{\\Phi}$:\n",
    "\n",
    "$$ \\mathbf{\\Phi} = \\begin{bmatrix} \\phi_{1,1} & \\phi_{1,2} & 0 \\\\ \n",
    "                                \\phi_{2,1} & \\phi_{2,2} & \\phi_{2,3}\\\\\n",
    "                                0       & \\phi_{3,2} & \\phi_{3,3} \\end{bmatrix} $$\n",
    "                                \n",
    "The prior assumption is that $\\phi_{1,3}$ and $\\phi_{3,1}$ have means of zero and a very small standard deviation of $10^{-3}$"
   ]
  },
  {
   "cell_type": "code",
   "execution_count": 11,
   "metadata": {},
   "outputs": [],
   "source": [
    "mod_code_D_struc <- \"data {\n",
    "\tint T;         //length of time series\n",
    "\tint p;         //number of variables\n",
    "\tmatrix[p,T] Y; //matrix of observations; variables are rows; time is columns\n",
    "}\n",
    "parameters{\n",
    "\tmatrix[p,p] PHI;               //dynamics matrix\n",
    "\tvector<lower=1E-15>[p] sigma;  //variances of stochastic forcing\n",
    "\tvector[p] init;                //mean of initial conditions as parameter vector\n",
    "}\n",
    "model{\n",
    "    PHI[1,3] ~ normal(0,1E-3);\n",
    "    PHI[3,1] ~ normal(0,1E-3);\n",
    "\n",
    "\tY[,1] ~ normal(init, sigma);           //distribution of the initial conditions\n",
    "\tfor(i in 2:T){\n",
    "\t\tY[,i] ~ normal(PHI*Y[,i-1],sigma); //conditional predictive distribution\n",
    "\t}\n",
    "}\""
   ]
  },
  {
   "cell_type": "code",
   "execution_count": 12,
   "metadata": {},
   "outputs": [],
   "source": [
    "mod_struc <- stan_model(model_code=mod_code_D_struc)"
   ]
  },
  {
   "cell_type": "code",
   "execution_count": 13,
   "metadata": {},
   "outputs": [],
   "source": [
    "mcmc_struc <- sampling(mod_struc,data=data,chains=4,open_progress=TRUE)"
   ]
  },
  {
   "cell_type": "code",
   "execution_count": 14,
   "metadata": {},
   "outputs": [
    {
     "data": {
      "text/plain": [
       "Inference for Stan model: 4244507c4c9e43c3755b1db25ce9f318.\n",
       "4 chains, each with iter=2000; warmup=1000; thin=1; \n",
       "post-warmup draws per chain=1000, total post-warmup draws=4000.\n",
       "\n",
       "           mean se_mean   sd   2.5%    25%    50%    75%  97.5% n_eff Rhat\n",
       "PHI[1,1]   0.15    0.00 0.07   0.01   0.10   0.15   0.20   0.29  5476    1\n",
       "PHI[1,2]  -0.33    0.00 0.07  -0.47  -0.38  -0.32  -0.28  -0.18  5059    1\n",
       "PHI[1,3]   0.00    0.00 0.00   0.00   0.00   0.00   0.00   0.00  3702    1\n",
       "PHI[2,1]  -0.27    0.00 0.01  -0.28  -0.27  -0.27  -0.26  -0.25  5902    1\n",
       "PHI[2,2]   0.58    0.00 0.01   0.57   0.58   0.58   0.59   0.60  5833    1\n",
       "PHI[2,3]   0.01    0.00 0.00   0.01   0.01   0.01   0.01   0.02  3814    1\n",
       "PHI[3,1]   0.00    0.00 0.00   0.00   0.00   0.00   0.00   0.00  4060    1\n",
       "PHI[3,2]  -0.21    0.01 0.45  -1.08  -0.52  -0.21   0.09   0.66  5205    1\n",
       "PHI[3,3]   0.74    0.00 0.05   0.64   0.71   0.74   0.78   0.85  6645    1\n",
       "sigma[1]   0.13    0.00 0.01   0.12   0.12   0.13   0.13   0.14  5752    1\n",
       "sigma[2]   0.01    0.00 0.00   0.01   0.01   0.01   0.02   0.02  6602    1\n",
       "sigma[3]   0.84    0.00 0.04   0.76   0.81   0.84   0.87   0.93  5201    1\n",
       "init[1]    0.12    0.00 0.13  -0.14   0.03   0.12   0.21   0.38  5625    1\n",
       "init[2]   -1.18    0.00 0.01  -1.21  -1.19  -1.18  -1.17  -1.15  6054    1\n",
       "init[3]   -0.52    0.01 0.86  -2.20  -1.10  -0.52   0.06   1.17  6930    1\n",
       "lp__     984.39    0.07 2.72 978.20 982.71 984.68 986.35 988.77  1716    1\n",
       "\n",
       "Samples were drawn using NUTS(diag_e) at Sun Dec 29 10:27:54 2019.\n",
       "For each parameter, n_eff is a crude measure of effective sample size,\n",
       "and Rhat is the potential scale reduction factor on split chains (at \n",
       "convergence, Rhat=1)."
      ]
     },
     "metadata": {},
     "output_type": "display_data"
    }
   ],
   "source": [
    "mcmc_struc"
   ]
  },
  {
   "cell_type": "code",
   "execution_count": 8,
   "metadata": {},
   "outputs": [],
   "source": [
    "mod_code_D_struc2 <- \"data {\n",
    "\tint T;         //length of time series\n",
    "\tint p;         //number of variables\n",
    "\tmatrix[p,T] Y; //matrix of observations; variables are rows; time is columns\n",
    "}\n",
    "parameters{\n",
    "\treal phi12;               //dynamics matrix\n",
    "    real phi23;\n",
    "    vector[p] phi_diag;\n",
    "\tvector<lower=1E-15>[p] sigma;  //variances of stochastic forcing\n",
    "\tvector[p] init;                //mean of initial conditions as parameter vector\n",
    "}\n",
    "transformed parameters{\n",
    "    matrix[p,p] PHI;\n",
    "    PHI[1,3] = 0;\n",
    "    PHI[3,1] = 0;\n",
    "    PHI[1,2] = phi12;\n",
    "    PHI[2,1] = phi12;\n",
    "    PHI[2,3] = phi23;\n",
    "    PHI[3,2] = phi23;\n",
    "    for(i in 1:p){\n",
    "    PHI[i,i] = phi_diag[i];\n",
    "    }\n",
    "}\n",
    "model{\n",
    "\tY[,1] ~ normal(init, sigma);           //distribution of the initial conditions\n",
    "\tfor(i in 2:T){\n",
    "\t\tY[,i] ~ normal(PHI*Y[,i-1],sigma); //conditional predictive distribution\n",
    "\t}\n",
    "}\""
   ]
  },
  {
   "cell_type": "code",
   "execution_count": 23,
   "metadata": {},
   "outputs": [],
   "source": [
    "mod_D_struc2 <- stan_model(model_code=mod_code_D_struc2)"
   ]
  },
  {
   "cell_type": "code",
   "execution_count": 14,
   "metadata": {},
   "outputs": [],
   "source": [
    "mcmc_d_struc2 <- sampling(mod_D_struc2, data=data2, open_progress=TRUE)"
   ]
  },
  {
   "cell_type": "code",
   "execution_count": 24,
   "metadata": {},
   "outputs": [
    {
     "data": {
      "text/plain": [
       "Inference for Stan model: d78b8154621b0b092fcd3133a6b1526d.\n",
       "4 chains, each with iter=2000; warmup=1000; thin=1; \n",
       "post-warmup draws per chain=1000, total post-warmup draws=4000.\n",
       "\n",
       "               mean se_mean   sd    2.5%     25%     50%     75%   97.5% n_eff\n",
       "phi12          0.13    0.00 0.20   -0.28   -0.01    0.13    0.26    0.52  2227\n",
       "phi23         -0.01    0.00 0.05   -0.10   -0.04   -0.01    0.03    0.09  4416\n",
       "phi_diag[1]    0.61    0.00 0.17    0.28    0.50    0.61    0.73    0.94  2297\n",
       "phi_diag[2]    0.57    0.01 0.26    0.05    0.40    0.57    0.74    1.08  2215\n",
       "phi_diag[3]    0.51    0.00 0.06    0.38    0.47    0.51    0.55    0.64  4885\n",
       "sigma[1]       1.24    0.00 0.06    1.12    1.20    1.24    1.28    1.37  5184\n",
       "sigma[2]       1.04    0.00 0.05    0.95    1.01    1.04    1.08    1.15  5111\n",
       "sigma[3]       1.09    0.00 0.06    0.99    1.05    1.09    1.13    1.21  5346\n",
       "init[1]       -0.91    0.02 1.29   -3.50   -1.76   -0.91   -0.03    1.58  4848\n",
       "init[2]        2.01    0.01 1.03    0.02    1.31    2.00    2.71    4.10  5738\n",
       "init[3]        0.68    0.01 1.08   -1.52   -0.02    0.68    1.39    2.86  5402\n",
       "PHI[1,1]       0.61    0.00 0.17    0.28    0.50    0.61    0.73    0.94  2297\n",
       "PHI[1,2]       0.13    0.00 0.20   -0.28   -0.01    0.13    0.26    0.52  2227\n",
       "PHI[1,3]       0.00     NaN 0.00    0.00    0.00    0.00    0.00    0.00   NaN\n",
       "PHI[2,1]       0.13    0.00 0.20   -0.28   -0.01    0.13    0.26    0.52  2227\n",
       "PHI[2,2]       0.57    0.01 0.26    0.05    0.40    0.57    0.74    1.08  2215\n",
       "PHI[2,3]      -0.01    0.00 0.05   -0.10   -0.04   -0.01    0.03    0.09  4416\n",
       "PHI[3,1]       0.00     NaN 0.00    0.00    0.00    0.00    0.00    0.00   NaN\n",
       "PHI[3,2]      -0.01    0.00 0.05   -0.10   -0.04   -0.01    0.03    0.09  4416\n",
       "PHI[3,3]       0.51    0.00 0.06    0.38    0.47    0.51    0.55    0.64  4885\n",
       "lp__        -366.95    0.05 2.35 -372.32 -368.41 -366.63 -365.23 -363.27  1847\n",
       "            Rhat\n",
       "phi12          1\n",
       "phi23          1\n",
       "phi_diag[1]    1\n",
       "phi_diag[2]    1\n",
       "phi_diag[3]    1\n",
       "sigma[1]       1\n",
       "sigma[2]       1\n",
       "sigma[3]       1\n",
       "init[1]        1\n",
       "init[2]        1\n",
       "init[3]        1\n",
       "PHI[1,1]       1\n",
       "PHI[1,2]       1\n",
       "PHI[1,3]     NaN\n",
       "PHI[2,1]       1\n",
       "PHI[2,2]       1\n",
       "PHI[2,3]       1\n",
       "PHI[3,1]     NaN\n",
       "PHI[3,2]       1\n",
       "PHI[3,3]       1\n",
       "lp__           1\n",
       "\n",
       "Samples were drawn using NUTS(diag_e) at Thu Jan 09 07:38:43 2020.\n",
       "For each parameter, n_eff is a crude measure of effective sample size,\n",
       "and Rhat is the potential scale reduction factor on split chains (at \n",
       "convergence, Rhat=1)."
      ]
     },
     "metadata": {},
     "output_type": "display_data"
    }
   ],
   "source": [
    "mcmc_d_struc2"
   ]
  }
 ],
 "metadata": {
  "@webio": {
   "lastCommId": null,
   "lastKernelId": null
  },
  "kernelspec": {
   "display_name": "R",
   "language": "R",
   "name": "ir"
  },
  "language_info": {
   "codemirror_mode": "r",
   "file_extension": ".r",
   "mimetype": "text/x-r-source",
   "name": "R",
   "pygments_lexer": "r",
   "version": "3.6.1"
  }
 },
 "nbformat": 4,
 "nbformat_minor": 2
}
