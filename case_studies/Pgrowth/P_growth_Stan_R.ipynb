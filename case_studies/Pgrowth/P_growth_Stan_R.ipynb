{
 "cells": [
  {
   "cell_type": "markdown",
   "metadata": {},
   "source": [
    "## Introduction Stan via P Growth Example\n",
    "\n",
    "The model we will solve is\n",
    "\n",
    "$$ \\frac{dP}{dt} = \\gamma P - \\lambda P^2 $$\n",
    "\n",
    "First we will load the required packages."
   ]
  },
  {
   "cell_type": "code",
   "execution_count": 2,
   "metadata": {},
   "outputs": [],
   "source": [
    "library(deSolve)\n",
    "library(rstan)\n",
    "options(mc.cores = parallel::detectCores())"
   ]
  },
  {
   "cell_type": "markdown",
   "metadata": {},
   "source": [
    "We set our parameters, initial conditions, and simulation parameters"
   ]
  },
  {
   "cell_type": "code",
   "execution_count": 3,
   "metadata": {},
   "outputs": [],
   "source": [
    "theta <- list(gamma =0.25, lambda=0.1)\n",
    "x <- c(P=1)\n",
    "T  <- 30\n",
    "dt <- 1\n",
    "nt <- T/dt\n",
    "t  <- seq(0,T,length.out=nt)"
   ]
  },
  {
   "cell_type": "markdown",
   "metadata": {},
   "source": [
    "We define the model in terms of a function that takes the time point, current, state, and parameters, and returns the value of the derivative."
   ]
  },
  {
   "cell_type": "code",
   "execution_count": 4,
   "metadata": {},
   "outputs": [],
   "source": [
    "dxdt <- function(t,x,theta){\n",
    "    with(as.list(c(x,theta)),{\n",
    "        dP <- gamma*P - lambda*P*P\n",
    "        list(c(dP)) })}"
   ]
  },
  {
   "cell_type": "markdown",
   "metadata": {},
   "source": [
    "Solve the ODE using the packaged ode solver."
   ]
  },
  {
   "cell_type": "code",
   "execution_count": 5,
   "metadata": {},
   "outputs": [],
   "source": [
    "x <- as.data.frame(ode(y=x, times=t, func=dxdt, parms=theta))"
   ]
  },
  {
   "cell_type": "markdown",
   "metadata": {},
   "source": [
    "Plot the results"
   ]
  },
  {
   "cell_type": "code",
   "execution_count": 6,
   "metadata": {},
   "outputs": [
    {
     "data": {
      "image/png": "[encoded data removed]",
      "text/plain": [
       "plot without title"
      ]
     },
     "metadata": {},
     "output_type": "display_data"
    }
   ],
   "source": [
    "options(repr.plot.width=6, repr.plot.height=4)\n",
    "plot(t,x$P,type='l')"
   ]
  },
  {
   "cell_type": "markdown",
   "metadata": {},
   "source": [
    "We choose a few time points where we have observations, sample the simulation at those time points, and add a bit of error to the state variable."
   ]
  },
  {
   "cell_type": "code",
   "execution_count": 10,
   "metadata": {},
   "outputs": [
    {
     "data": {
      "image/png": "[encoded data removed]",
      "text/plain": [
       "plot without title"
      ]
     },
     "metadata": {},
     "output_type": "display_data"
    }
   ],
   "source": [
    "t_obs_ind <- c(1,3,4,6,9,13,16,24)\n",
    "obs       <- x$P[t_obs_ind] + rnorm(length(t_obs_ind),sd=0.1)\n",
    "t_obs     <- x$t[t_obs_ind] \n",
    "plot(t_obs,obs)"
   ]
  },
  {
   "cell_type": "markdown",
   "metadata": {},
   "source": [
    "The Stan code below introduces the ODE solver functionality within Stan via two new blocks. \n",
    "\n",
    "#### `functions` block\n",
    "This is where we define the function that returns the model derivatives as a function of the time step `t`, current state `x`, and parameters `theta`.\n",
    "The Stan ODE solver also expects two additional objects, `x_r` and `x_i`, where you can supply boundary conditions and other inputs. \n",
    "We will not have to use these in our case studies and so will leave them empty.\n",
    "\n",
    "#### `transformed parameters` block\n",
    "Here is where we define the model state `x` which we treat as a transformed parameter in Stan.\n",
    "We use the standard (non-stiff) version of the ODE solver within Stan which implements a fourth order Runge Kutta method.\n",
    "The arguements of `integrate_ode_rk45` are \n",
    "\n",
    "`integrate_ode_rk45(<function>,<initial conditions>,<initialization code>,<time>,<x_r>,<x_i>,<rel_tol>,<abs_tol>,<num_steps>)`\n",
    "\n",
    "Below we specify the initial conditions as a parameter and pass those parameters to the ODE solver. \n",
    "We pass the time argument the points where we want to obtain the posterior estimates. \n",
    "In general this set of time points will contain the time points where we have observations, in order for Stan to be able to compare the model prediction to the observation in the likelihood.\n",
    "However, we could also ask Stan to evaluate the posterior at places where we don't have data which would give us the posterior predictive distribution at that point.\n",
    "We we just need to pass Stan additional time indices in the `data` block to specify which times are being used in the likelihood.\n",
    "\n",
    "Note that we can also use the ODE solver in the same way within the model block.\n",
    "It is just personal preference.\n",
    "\n",
    "More detailed descriptions of the ODE solver options is available [here](https://mc-stan.org/docs/2_21/functions-reference/functions-ode-solver.html)"
   ]
  },
  {
   "cell_type": "code",
   "execution_count": 11,
   "metadata": {},
   "outputs": [],
   "source": [
    "stancode <- \"functions {\n",
    "   real[] P_growth(real t,       // time\n",
    "                   real[] x,      // state\n",
    "                   real[] theta, // parameters\n",
    "                   real[] x_r,   // environmental data\n",
    "                   int[] x_i){\n",
    "    real gamma  = theta[1];\n",
    "    real lambda = theta[2];\n",
    "\n",
    "    real growth = gamma*x[1];\n",
    "    real loss   = lambda*x[1]*x[1];\n",
    "    \n",
    "    return {growth - loss};\n",
    "  }\n",
    "}\n",
    "data {\n",
    "    int<lower = 0> N;           // num obs\n",
    "    real t_obs[N];              // obs times\n",
    "    real<lower = 0> y[N];       // observed variable at measurement times\n",
    "    real sigma;\n",
    "}\n",
    "parameters {\n",
    "    real<lower=0,upper=1> theta[2];      // parameters\n",
    "    real<lower=0> x0[1];\n",
    "}\n",
    "transformed parameters {\n",
    "    real x[N,1] = integrate_ode_rk45(P_growth, x0, -1, t_obs, theta,\n",
    "                                      rep_array(0.0, 0), rep_array(0, 0),\n",
    "                                      1e-6, 1e-5, 1e3);\n",
    "}\n",
    "model {\n",
    "    //theta[1] ~ normal(0.1, 2);\n",
    "    //theta[2] ~ normal(0.1, 2);\n",
    "    x0       ~ normal(1.0, 10);\n",
    "    y[1:N]   ~ normal(x[1:N,1], sigma); // obs\n",
    "}\"\n"
   ]
  },
  {
   "cell_type": "markdown",
   "metadata": {},
   "source": [
    "Compile the model"
   ]
  },
  {
   "cell_type": "code",
   "execution_count": 8,
   "metadata": {},
   "outputs": [],
   "source": [
    "mod <- stan_model(model_code=stancode)"
   ]
  },
  {
   "cell_type": "markdown",
   "metadata": {},
   "source": [
    "Organize the data for Stan. \n",
    "Note that we are now passing the error standard deviation to Stan, instead of estimating it, and so appears in the `data` block and not the `parameter` block. "
   ]
  },
  {
   "cell_type": "code",
   "execution_count": 12,
   "metadata": {},
   "outputs": [],
   "source": [
    "data <- list(N=length(t_obs),\n",
    "             t_obs=t_obs,\n",
    "             y=obs,\n",
    "             sigma=0.1)"
   ]
  },
  {
   "cell_type": "markdown",
   "metadata": {},
   "source": [
    "Perform sampling"
   ]
  },
  {
   "cell_type": "code",
   "execution_count": 11,
   "metadata": {},
   "outputs": [],
   "source": [
    "mcmc <- sampling(mod,data=data,iter=2000,chains=4,open_progress=TRUE)"
   ]
  },
  {
   "cell_type": "markdown",
   "metadata": {},
   "source": [
    "Look at the mcmc summaries."
   ]
  },
  {
   "cell_type": "code",
   "execution_count": 12,
   "metadata": {},
   "outputs": [
    {
     "data": {
      "text/plain": [
       "Inference for Stan model: c6d12bf601e0452d638def398bcc2af2.\n",
       "4 chains, each with iter=2000; warmup=1000; thin=1; \n",
       "post-warmup draws per chain=1000, total post-warmup draws=4000.\n",
       "\n",
       "          mean se_mean   sd   2.5%    25%   50%   75% 97.5% n_eff Rhat\n",
       "theta[1]  0.27    0.00 0.05   0.18   0.23  0.27  0.30  0.39   845 1.00\n",
       "theta[2]  0.12    0.00 0.03   0.07   0.10  0.11  0.13  0.17   855 1.00\n",
       "x0[1]     0.86    0.00 0.10   0.66   0.79  0.86  0.93  1.04   875 1.01\n",
       "x[1,1]    1.01    0.00 0.08   0.84   0.95  1.01  1.06  1.16   957 1.01\n",
       "x[2,1]    1.33    0.00 0.05   1.22   1.29  1.33  1.37  1.44  1856 1.00\n",
       "x[3,1]    1.48    0.00 0.05   1.38   1.45  1.48  1.52  1.60  2189 1.00\n",
       "x[4,1]    1.76    0.00 0.06   1.64   1.71  1.75  1.80  1.88  1457 1.00\n",
       "x[5,1]    2.04    0.00 0.06   1.92   1.99  2.04  2.08  2.16  1418 1.00\n",
       "x[6,1]    2.22    0.00 0.05   2.12   2.19  2.23  2.26  2.32  3227 1.00\n",
       "x[7,1]    2.29    0.00 0.06   2.17   2.25  2.29  2.33  2.40  2814 1.00\n",
       "x[8,1]    2.34    0.00 0.08   2.19   2.28  2.34  2.39  2.50  1494 1.00\n",
       "lp__     -9.84    0.04 1.23 -12.87 -10.41 -9.54 -8.94 -8.41  1063 1.00\n",
       "\n",
       "Samples were drawn using NUTS(diag_e) at Sat Jan 04 11:25:58 2020.\n",
       "For each parameter, n_eff is a crude measure of effective sample size,\n",
       "and Rhat is the potential scale reduction factor on split chains (at \n",
       "convergence, Rhat=1)."
      ]
     },
     "metadata": {},
     "output_type": "display_data"
    }
   ],
   "source": [
    "mcmc"
   ]
  },
  {
   "cell_type": "markdown",
   "metadata": {},
   "source": [
    "Extract mcmc samples"
   ]
  },
  {
   "cell_type": "code",
   "execution_count": 13,
   "metadata": {},
   "outputs": [],
   "source": [
    "post <- extract(mcmc)"
   ]
  },
  {
   "cell_type": "code",
   "execution_count": 14,
   "metadata": {},
   "outputs": [
    {
     "data": {
      "text/html": [
       "<ol class=list-inline>\n",
       "\t<li>'theta'</li>\n",
       "\t<li>'x0'</li>\n",
       "\t<li>'x'</li>\n",
       "\t<li>'lp__'</li>\n",
       "</ol>\n"
      ],
      "text/latex": [
       "\\begin{enumerate*}\n",
       "\\item 'theta'\n",
       "\\item 'x0'\n",
       "\\item 'x'\n",
       "\\item 'lp\\_\\_'\n",
       "\\end{enumerate*}\n"
      ],
      "text/markdown": [
       "1. 'theta'\n",
       "2. 'x0'\n",
       "3. 'x'\n",
       "4. 'lp__'\n",
       "\n",
       "\n"
      ],
      "text/plain": [
       "[1] \"theta\" \"x0\"    \"x\"     \"lp__\" "
      ]
     },
     "metadata": {},
     "output_type": "display_data"
    }
   ],
   "source": [
    "names(post)"
   ]
  },
  {
   "cell_type": "markdown",
   "metadata": {},
   "source": [
    "Notice the dimensions of the variables.\n",
    "mcmc samples are always the first dimension."
   ]
  },
  {
   "cell_type": "code",
   "execution_count": 15,
   "metadata": {},
   "outputs": [
    {
     "data": {
      "text/html": [
       "<ol class=list-inline>\n",
       "\t<li>4000</li>\n",
       "\t<li>2</li>\n",
       "</ol>\n"
      ],
      "text/latex": [
       "\\begin{enumerate*}\n",
       "\\item 4000\n",
       "\\item 2\n",
       "\\end{enumerate*}\n"
      ],
      "text/markdown": [
       "1. 4000\n",
       "2. 2\n",
       "\n",
       "\n"
      ],
      "text/plain": [
       "[1] 4000    2"
      ]
     },
     "metadata": {},
     "output_type": "display_data"
    },
    {
     "data": {
      "text/html": [
       "<ol class=list-inline>\n",
       "\t<li>4000</li>\n",
       "\t<li>1</li>\n",
       "</ol>\n"
      ],
      "text/latex": [
       "\\begin{enumerate*}\n",
       "\\item 4000\n",
       "\\item 1\n",
       "\\end{enumerate*}\n"
      ],
      "text/markdown": [
       "1. 4000\n",
       "2. 1\n",
       "\n",
       "\n"
      ],
      "text/plain": [
       "[1] 4000    1"
      ]
     },
     "metadata": {},
     "output_type": "display_data"
    },
    {
     "data": {
      "text/html": [
       "<ol class=list-inline>\n",
       "\t<li>4000</li>\n",
       "\t<li>8</li>\n",
       "\t<li>1</li>\n",
       "</ol>\n"
      ],
      "text/latex": [
       "\\begin{enumerate*}\n",
       "\\item 4000\n",
       "\\item 8\n",
       "\\item 1\n",
       "\\end{enumerate*}\n"
      ],
      "text/markdown": [
       "1. 4000\n",
       "2. 8\n",
       "3. 1\n",
       "\n",
       "\n"
      ],
      "text/plain": [
       "[1] 4000    8    1"
      ]
     },
     "metadata": {},
     "output_type": "display_data"
    }
   ],
   "source": [
    "dim(post$theta)\n",
    "dim(post$x0)\n",
    "dim(post$x)"
   ]
  },
  {
   "cell_type": "markdown",
   "metadata": {},
   "source": [
    "Plot the posterior marginal distributions via histograms."
   ]
  },
  {
   "cell_type": "code",
   "execution_count": 20,
   "metadata": {},
   "outputs": [
    {
     "data": {
      "image/png": "[encoded data removed]",
      "text/plain": [
       "Plot with title \"\""
      ]
     },
     "metadata": {},
     "output_type": "display_data"
    }
   ],
   "source": [
    "options(repr.plot.width=8, repr.plot.height=4)\n",
    "par(mfrow=c(1,3))\n",
    "hist(post$theta[,1],xlab='gamma',main='')\n",
    "hist(post$theta[,2],xlab='lambda',main='')\n",
    "hist(post$x0,xlab='x0',main='')"
   ]
  },
  {
   "cell_type": "markdown",
   "metadata": {},
   "source": [
    "Plot the joint distribution."
   ]
  },
  {
   "cell_type": "code",
   "execution_count": 22,
   "metadata": {},
   "outputs": [
    {
     "data": {
      "image/png": "[encoded data removed]",
      "text/plain": [
       "plot without title"
      ]
     },
     "metadata": {},
     "output_type": "display_data"
    }
   ],
   "source": [
    "options(repr.plot.width=4, repr.plot.height=4)\n",
    "plot(post$theta[,1],post$theta[,2])"
   ]
  },
  {
   "cell_type": "markdown",
   "metadata": {},
   "source": [
    "## Periodic P Growth\n",
    "We will extend the model to include sinusoidal growth\n",
    "\n",
    "$$ \\frac{dP}{dt} = \\gamma\\left(1+\\sin (\\omega t)\\right) P - \\lambda P^2  $$"
   ]
  },
  {
   "cell_type": "markdown",
   "metadata": {},
   "source": [
    "Specify parameters for synthetic data."
   ]
  },
  {
   "cell_type": "code",
   "execution_count": 13,
   "metadata": {},
   "outputs": [],
   "source": [
    "theta_sin <- list(gamma =0.25,\n",
    "                  lambda=0.1,\n",
    "                  period=365,\n",
    "                  omega =2*pi/365,\n",
    "                      dt=1)\n",
    "x_sin <- c(P   =2.5,\n",
    "           time=0)\n",
    "T_sin  <- 365*4\n",
    "dt_sin <- 1\n",
    "nt_sin <- T_sin/dt_sin\n",
    "\n",
    "t_sin  <- seq(0,T_sin,length.out=nt_sin)"
   ]
  },
  {
   "cell_type": "markdown",
   "metadata": {},
   "source": [
    "Definte function to simulate data"
   ]
  },
  {
   "cell_type": "code",
   "execution_count": 14,
   "metadata": {},
   "outputs": [],
   "source": [
    "dxdt_sin <- function(t,x,theta){\n",
    "    with(as.list(c(x,theta)),{\n",
    "        dP      <- gamma*(1+sin(omega*time))*P - lambda*P*P\n",
    "        delta_t <- dt\n",
    "        list(c(dP, delta_t))\n",
    "    })\n",
    "}"
   ]
  },
  {
   "cell_type": "markdown",
   "metadata": {},
   "source": [
    "Solve ODE using ODE package"
   ]
  },
  {
   "cell_type": "code",
   "execution_count": 15,
   "metadata": {},
   "outputs": [],
   "source": [
    "x_sin <- as.data.frame(ode(y=x_sin, times=t_sin, func=dxdt_sin, parms=theta_sin))"
   ]
  },
  {
   "cell_type": "markdown",
   "metadata": {},
   "source": [
    "Plot solution"
   ]
  },
  {
   "cell_type": "code",
   "execution_count": 16,
   "metadata": {},
   "outputs": [
    {
     "data": {
      "image/png": "[encoded data removed]",
      "text/plain": [
       "plot without title"
      ]
     },
     "metadata": {},
     "output_type": "display_data"
    }
   ],
   "source": [
    "plot(x_sin$time,x_sin$P,type='l')"
   ]
  },
  {
   "cell_type": "markdown",
   "metadata": {},
   "source": [
    "Choose random time points to sample the solution.\n",
    "Make sure the observations aren't negative after adding random observational noise."
   ]
  },
  {
   "cell_type": "code",
   "execution_count": 17,
   "metadata": {},
   "outputs": [],
   "source": [
    "t_obs_ind_sin      <- sort(sample(1:length(t_sin),50))\n",
    "obs_sin            <- x_sin$P[t_obs_ind_sin] + rnorm(length(t_obs_ind_sin),sd=0.5)\n",
    "obs_sin[obs_sin<0] <- 0\n",
    "t_obs_sin          <- x_sin$time[t_obs_ind_sin] "
   ]
  },
  {
   "cell_type": "markdown",
   "metadata": {},
   "source": [
    "Plot the synthetic observations."
   ]
  },
  {
   "cell_type": "code",
   "execution_count": 18,
   "metadata": {},
   "outputs": [
    {
     "data": {
      "image/png": "[encoded data removed]",
      "text/plain": [
       "plot without title"
      ]
     },
     "metadata": {},
     "output_type": "display_data"
    }
   ],
   "source": [
    "plot(t_obs_sin,obs_sin,type='l')"
   ]
  },
  {
   "cell_type": "markdown",
   "metadata": {},
   "source": [
    "The Stan code below implements the modified model. \n",
    "Notice the `growth` calculation where we calculate the sinusoidal component via the model variable `t`. "
   ]
  },
  {
   "cell_type": "code",
   "execution_count": 19,
   "metadata": {},
   "outputs": [],
   "source": [
    "stancode_sin <- \"functions {\n",
    "   real[] P_growth(real t,       // time\n",
    "                   real[] x,      // state\n",
    "                   real[] theta, // parameters\n",
    "                   real[] x_r,   // environmental data\n",
    "                   int[] x_i){\n",
    "    real gamma  = theta[1];\n",
    "    real lambda = theta[2];\n",
    "\t//real a      = theta[3];\n",
    "\n",
    "    real growth = gamma*x[1] + gamma*sin(2*pi()*(1.0/365.0)*t)*x[1];\n",
    "    real loss   = lambda*x[1]*x[1];\n",
    "    \n",
    "    return {growth - loss};\n",
    "  }\n",
    "}\n",
    "data {\n",
    "    int<lower = 0> N;           // num obs\n",
    "    real<lower = 0> t_obs[N];              // obs times\n",
    "    real<lower = 0> y[N];       // observed variable at measurement times\n",
    "    //real<lower = 0> sigma;\n",
    "}\n",
    "parameters {\n",
    "    real<lower=0> theta[2];      // parameters\n",
    "    real<lower=0> x0[1];\n",
    "\treal<lower=1E-15> sigma;\n",
    "}\n",
    "transformed parameters {\n",
    "    real<lower=0> x[N,1] = integrate_ode_rk45(P_growth, x0, 1, t_obs, theta,\n",
    "                                      rep_array(0.0, 0), rep_array(0, 0),\n",
    "                                      1e-6, 1e-6, 1e5);\n",
    "}\n",
    "model {\n",
    "    theta[1] ~ normal(0.1, 1);\n",
    "    theta[2] ~ normal(0.1, 1);\n",
    "\t//theta[3] ~ normal(0.01,1);\n",
    "    x0       ~ normal(1.0, 10);\n",
    "    y[1:N]   ~ normal(x[1:N,1], sigma); // obs\n",
    "}\"\n"
   ]
  },
  {
   "cell_type": "markdown",
   "metadata": {},
   "source": [
    "Compile the Stan code."
   ]
  },
  {
   "cell_type": "code",
   "execution_count": 20,
   "metadata": {},
   "outputs": [],
   "source": [
    "mod_sin <- stan_model(model_code=stancode_sin)"
   ]
  },
  {
   "cell_type": "markdown",
   "metadata": {},
   "source": [
    "Organize the data"
   ]
  },
  {
   "cell_type": "code",
   "execution_count": 21,
   "metadata": {},
   "outputs": [],
   "source": [
    "data_sin <- list(N=length(t_obs_sin),\n",
    "             t_obs=round(t_obs_sin),\n",
    "             y=obs_sin)"
   ]
  },
  {
   "cell_type": "markdown",
   "metadata": {},
   "source": [
    "Perform mcmc sampling"
   ]
  },
  {
   "cell_type": "code",
   "execution_count": 22,
   "metadata": {},
   "outputs": [],
   "source": [
    "mcmc_sin <- sampling(mod_sin,data=data_sin,iter=2000,chains=4,open_progress=TRUE)"
   ]
  },
  {
   "cell_type": "markdown",
   "metadata": {},
   "source": [
    "Look at the summaries of the mcmc chains"
   ]
  },
  {
   "cell_type": "code",
   "execution_count": 23,
   "metadata": {},
   "outputs": [
    {
     "data": {
      "text/plain": [
       "Inference for Stan model: 88abac259638d91ada7fb287ff6180c3.\n",
       "4 chains, each with iter=2000; warmup=1000; thin=1; \n",
       "post-warmup draws per chain=1000, total post-warmup draws=4000.\n",
       "\n",
       "         mean se_mean   sd 2.5%  25%  50%   75% 97.5% n_eff Rhat\n",
       "theta[1] 0.37    0.01 0.32 0.12 0.19 0.26  0.42  1.31   735    1\n",
       "theta[2] 0.15    0.00 0.13 0.05 0.08 0.10  0.17  0.52   738    1\n",
       "x0[1]    8.17    0.17 6.12 0.26 3.35 7.11 11.74 22.80  1329    1\n",
       "sigma    0.53    0.00 0.06 0.43 0.49 0.53  0.57  0.66  1530    1\n",
       "x[1,1]   4.98    0.00 0.13 4.72 4.89 4.98  5.06  5.23  3965    1\n",
       "x[2,1]   4.54    0.00 0.12 4.31 4.47 4.54  4.62  4.78  3690    1\n",
       "x[3,1]   4.47    0.00 0.12 4.23 4.39 4.47  4.55  4.70  3621    1\n",
       "x[4,1]   4.30    0.00 0.11 4.07 4.23 4.30  4.38  4.53  3384    1\n",
       "x[5,1]   3.66    0.00 0.10 3.45 3.60 3.66  3.73  3.87  2471    1\n",
       "x[6,1]   3.55    0.00 0.10 3.34 3.48 3.55  3.62  3.75  2323    1\n",
       "x[7,1]   2.75    0.00 0.09 2.57 2.69 2.75  2.82  2.94  1557    1\n",
       "x[8,1]   2.43    0.00 0.09 2.24 2.36 2.43  2.49  2.62  1349    1\n",
       "x[9,1]   0.87    0.00 0.11 0.66 0.79 0.87  0.95  1.08   930    1\n",
       "x[10,1]  0.29    0.00 0.09 0.11 0.22 0.29  0.36  0.47   907    1\n",
       "x[11,1]  0.22    0.00 0.08 0.07 0.16 0.22  0.28  0.38   918    1\n",
       "x[12,1]  0.18    0.00 0.07 0.07 0.13 0.18  0.23  0.32   940    1\n",
       "x[13,1]  0.18    0.00 0.06 0.07 0.13 0.18  0.22  0.31   951    1\n",
       "x[14,1]  0.22    0.00 0.04 0.18 0.19 0.21  0.25  0.31  1407    1\n",
       "x[15,1]  0.39    0.00 0.10 0.32 0.34 0.35  0.40  0.72   713    1\n",
       "x[16,1]  0.74    0.01 0.20 0.51 0.57 0.67  0.88  1.17   796    1\n",
       "x[17,1]  4.62    0.00 0.13 4.37 4.53 4.62  4.70  4.86  3434    1\n",
       "x[18,1]  4.86    0.00 0.13 4.61 4.77 4.86  4.94  5.11  3921    1\n",
       "x[19,1]  4.74    0.00 0.12 4.49 4.66 4.74  4.82  4.98  3847    1\n",
       "x[20,1]  3.00    0.00 0.10 2.81 2.93 3.00  3.06  3.19  1743    1\n",
       "x[21,1]  0.87    0.00 0.11 0.66 0.79 0.87  0.95  1.08   930    1\n",
       "x[22,1]  0.21    0.00 0.08 0.07 0.15 0.21  0.27  0.36   920    1\n",
       "x[23,1]  0.18    0.00 0.06 0.08 0.13 0.18  0.22  0.30   964    1\n",
       "x[24,1]  0.19    0.00 0.05 0.13 0.15 0.19  0.23  0.30  1069    1\n",
       "x[25,1]  0.44    0.00 0.12 0.35 0.37 0.38  0.46  0.79   722    1\n",
       "x[26,1]  3.89    0.00 0.12 3.65 3.81 3.89  3.97  4.11  2443    1\n",
       "x[27,1]  4.82    0.00 0.13 4.56 4.73 4.82  4.90  5.07  3670    1\n",
       "x[28,1]  4.83    0.00 0.13 4.58 4.74 4.83  4.91  5.08  3904    1\n",
       "x[29,1]  4.79    0.00 0.12 4.54 4.71 4.79  4.88  5.04  3884    1\n",
       "x[30,1]  2.27    0.00 0.09 2.08 2.20 2.26  2.33  2.46  1252    1\n",
       "x[31,1]  1.30    0.00 0.10 1.12 1.23 1.30  1.38  1.51   979    1\n",
       "x[32,1]  1.18    0.00 0.11 0.99 1.10 1.18  1.25  1.39   963    1\n",
       "x[33,1]  0.87    0.00 0.11 0.66 0.79 0.87  0.95  1.08   930    1\n",
       "x[34,1]  0.21    0.00 0.04 0.15 0.17 0.20  0.23  0.30  1216    1\n",
       "x[35,1]  0.54    0.01 0.15 0.41 0.43 0.47  0.60  0.94   751    1\n",
       "x[36,1]  1.78    0.01 0.24 1.23 1.62 1.83  1.97  2.11  1129    1\n",
       "x[37,1]  4.07    0.00 0.12 3.82 3.99 4.07  4.15  4.29  2677    1\n",
       "x[38,1]  4.30    0.00 0.12 4.05 4.21 4.30  4.38  4.53  3004    1\n",
       "x[39,1]  5.00    0.00 0.13 4.74 4.91 5.00  5.09  5.25  3937    1\n",
       "x[40,1]  4.70    0.00 0.12 4.46 4.62 4.70  4.78  4.94  3818    1\n",
       "x[41,1]  4.12    0.00 0.11 3.89 4.05 4.12  4.19  4.34  3113    1\n",
       "x[42,1]  4.08    0.00 0.11 3.86 4.01 4.08  4.16  4.30  3066    1\n",
       "x[43,1]  3.74    0.00 0.10 3.52 3.67 3.74  3.81  3.95  2571    1\n",
       "x[44,1]  2.27    0.00 0.09 2.08 2.20 2.26  2.33  2.46  1252    1\n",
       "x[45,1]  1.87    0.00 0.10 1.69 1.80 1.87  1.94  2.07  1098    1\n",
       "x[46,1]  0.79    0.00 0.11 0.59 0.71 0.80  0.87  1.01   923    1\n",
       "x[47,1]  0.49    0.00 0.11 0.29 0.42 0.50  0.57  0.70   904    1\n",
       "x[48,1]  0.19    0.00 0.05 0.11 0.14 0.18  0.22  0.30  1016    1\n",
       "x[49,1]  1.07    0.01 0.25 0.68 0.86 1.05  1.30  1.50   889    1\n",
       "x[50,1]  1.57    0.01 0.26 1.04 1.38 1.61  1.78  1.93  1058    1\n",
       "lp__     4.45    0.06 1.65 0.25 3.65 4.78  5.67  6.53   865    1\n",
       "\n",
       "Samples were drawn using NUTS(diag_e) at Mon Jan 06 14:58:09 2020.\n",
       "For each parameter, n_eff is a crude measure of effective sample size,\n",
       "and Rhat is the potential scale reduction factor on split chains (at \n",
       "convergence, Rhat=1)."
      ]
     },
     "metadata": {},
     "output_type": "display_data"
    }
   ],
   "source": [
    "mcmc_sin"
   ]
  },
  {
   "cell_type": "markdown",
   "metadata": {},
   "source": [
    "Extract posterior samples"
   ]
  },
  {
   "cell_type": "code",
   "execution_count": 24,
   "metadata": {},
   "outputs": [],
   "source": [
    "post_sin <- extract(mcmc_sin)"
   ]
  },
  {
   "cell_type": "markdown",
   "metadata": {},
   "source": [
    "Plot the histograms"
   ]
  },
  {
   "cell_type": "code",
   "execution_count": 25,
   "metadata": {},
   "outputs": [
    {
     "data": {
      "image/png": "[encoded data removed]",
      "text/plain": [
       "Plot with title \"\""
      ]
     },
     "metadata": {},
     "output_type": "display_data"
    }
   ],
   "source": [
    "par(mfrow=c(1,3))\n",
    "hist(post_sin$theta[,1],xlab='gamma',main='')\n",
    "hist(post_sin$theta[,2],xlab='lambda',main='')\n",
    "hist(post_sin$x0,xlab='x0',main='')"
   ]
  },
  {
   "cell_type": "code",
   "execution_count": 26,
   "metadata": {},
   "outputs": [],
   "source": [
    "mu  <- colMeans(post_sin$x[,,1])\n",
    "std <- apply(post_sin$x[,,1],2,sd) "
   ]
  },
  {
   "cell_type": "code",
   "execution_count": 31,
   "metadata": {},
   "outputs": [
    {
     "data": {
      "image/png": "[encoded data removed]",
      "text/plain": [
       "plot without title"
      ]
     },
     "metadata": {},
     "output_type": "display_data"
    }
   ],
   "source": [
    "plot(t_obs_sin,mu,type='l')\n",
    "points(t_obs_sin,obs_sin)\n",
    "lines(t_obs_sin,mu+2*std,lty=2)\n",
    "lines(t_obs_sin,mu-2*std,lty=2)"
   ]
  },
  {
   "cell_type": "code",
   "execution_count": null,
   "metadata": {},
   "outputs": [],
   "source": []
  }
 ],
 "metadata": {
  "kernelspec": {
   "display_name": "R",
   "language": "R",
   "name": "ir"
  },
  "language_info": {
   "codemirror_mode": "r",
   "file_extension": ".r",
   "mimetype": "text/x-r-source",
   "name": "R",
   "pygments_lexer": "r",
   "version": "3.6.1"
  }
 },
 "nbformat": 4,
 "nbformat_minor": 2
}
