{
 "cells": [
  {
   "cell_type": "markdown",
   "metadata": {},
   "source": [
    "## Introduction Stan via P Growth Example\n",
    "\n",
    "The model we will solve is\n",
    "\n",
    "$$ \\frac{dP}{dt} = \\gamma P - \\lambda P^2 $$\n",
    "\n",
    "First we will load the required packages."
   ]
  },
  {
   "cell_type": "code",
   "execution_count": 2,
   "metadata": {},
   "outputs": [],
   "source": [
    "import numpy as np\n",
    "from scipy.integrate import odeint"
   ]
  },
  {
   "cell_type": "markdown",
   "metadata": {},
   "source": [
    "We set our parameters, initial conditions, and simulation parameters"
   ]
  },
  {
   "cell_type": "code",
   "execution_count": 3,
   "metadata": {},
   "outputs": [],
   "source": [
    "theta = (0.25, 0.1) # γ, λ\n",
    "P = 1.0\n",
    "T = 30\n",
    "dt = 1.0\n",
    "t = np.arange(0,T+dt,dt)"
   ]
  },
  {
   "cell_type": "markdown",
   "metadata": {},
   "source": [
    "We define the model in terms of a function that takes the time point, current, state, and parameters, and returns the value of the derivative."
   ]
  },
  {
   "cell_type": "code",
   "execution_count": 4,
   "metadata": {},
   "outputs": [],
   "source": [
    "def dxdt(P, t, γ, λ):\n",
    "    return γ*P - λ*P**2"
   ]
  },
  {
   "cell_type": "markdown",
   "metadata": {},
   "source": [
    "Solve the ODE using the packaged ode solver."
   ]
  },
  {
   "cell_type": "code",
   "execution_count": 5,
   "metadata": {},
   "outputs": [],
   "source": [
    "x = odeint(dxdt, P, t, args=theta)[:,0]"
   ]
  },
  {
   "cell_type": "markdown",
   "metadata": {},
   "source": [
    "Plot the results"
   ]
  },
  {
   "cell_type": "code",
   "execution_count": 6,
   "metadata": {},
   "outputs": [
    {
     "data": {
      "image/png": "[encoded data removed]",
      "text/plain": [
       "<Figure size 432x288 with 1 Axes>"
      ]
     },
     "metadata": {
      "needs_background": "light"
     },
     "output_type": "display_data"
    }
   ],
   "source": [
    "import matplotlib.pyplot as plt\n",
    "\n",
    "fig, ax = plt.subplots()\n",
    "ax.plot(t,x)\n",
    "ax.set(xlabel='time', ylabel='P')\n",
    "None"
   ]
  },
  {
   "cell_type": "markdown",
   "metadata": {},
   "source": [
    "We choose a few time points where we have observations, sample the simulation at those time points, and add a bit of error to the state variable."
   ]
  },
  {
   "cell_type": "code",
   "execution_count": 6,
   "metadata": {},
   "outputs": [
    {
     "data": {
      "image/png": "[encoded data removed]",
      "text/plain": [
       "<matplotlib.figure.Figure at 0x7f40b900ea58>"
      ]
     },
     "metadata": {
      "needs_background": "light"
     },
     "output_type": "display_data"
    }
   ],
   "source": [
    "t_obs_ind = np.array((1,3,4,6,9,13,16,24))-1\n",
    "\n",
    "obs = x[t_obs_ind] + np.random.normal(size=t_obs_ind.size, scale=0.1)\n",
    "t_obs = t[t_obs_ind]\n",
    "\n",
    "fig, ax = plt.subplots()\n",
    "ax.plot(t_obs, obs, marker='o', linestyle='none')\n",
    "ax.set(xlabel='time', ylabel='P observations')\n",
    "None"
   ]
  },
  {
   "cell_type": "markdown",
   "metadata": {},
   "source": [
    "The Stan code below introduces the ODE solver functionality within Stan via two new blocks. \n",
    "\n",
    "#### `functions` block\n",
    "This is where we define the function that returns the model derivatives as a function of the time step `t`, current state `x`, and parameters `theta`.\n",
    "The Stan ODE solver also expects two additional objects, `x_r` and `x_i`, where you can supply boundary conditions and other inputs. \n",
    "We will not have to use these in our case studies and so will leave them empty.\n",
    "\n",
    "#### `transformed parameters` block\n",
    "Here is where we define the model state `x` which we treat as a transformed parameter in Stan.\n",
    "We use the standard (non-stiff) version of the ODE solver within Stan which implements a fourth order Runge Kutta method.\n",
    "The arguements of `integrate_ode_rk45` are \n",
    "\n",
    "`integrate_ode_rk45(<function>,<initial conditions>,<initialization code>,<time>,<x_r>,<x_i>,<rel_tol>,<abs_tol>,<num_steps>)`\n",
    "\n",
    "Below we specify the initial conditions as a parameter and pass those parameters to the ODE solver. \n",
    "We pass the time argument the points where we want to obtain the posterior estimates. \n",
    "In general this set of time points will contain the time points where we have observations, in order for Stan to be able to compare the model prediction to the observation in the likelihood.\n",
    "However, we could also ask Stan to evaluate the posterior at places where we don't have data which would give us the posterior predictive distribution at that point.\n",
    "We we just need to pass Stan additional time indices in the `data` block to specify which times are being used in the likelihood.\n",
    "\n",
    "Note that we can also use the ODE solver in the same way within the model block.\n",
    "It is just personal preference.\n",
    "\n",
    "More detailed descriptions of the ODE solver options is available [here](https://mc-stan.org/docs/2_21/functions-reference/functions-ode-solver.html)"
   ]
  },
  {
   "cell_type": "code",
   "execution_count": 7,
   "metadata": {},
   "outputs": [],
   "source": [
    "stan_code = '''functions {\n",
    "   real[] P_growth(real t,       // time\n",
    "                   real[] x,      // state\n",
    "                   real[] theta, // parameters\n",
    "                   real[] x_r,   // environmental data\n",
    "                   int[] x_i){\n",
    "    real gamma  = theta[1];\n",
    "    real lambda = theta[2];\n",
    "\n",
    "    real growth = gamma*x[1];\n",
    "    real loss   = lambda*x[1]*x[1];\n",
    "    \n",
    "    return {growth - loss};\n",
    "  }\n",
    "}\n",
    "data {\n",
    "    int<lower = 0> N;           // num obs\n",
    "    real t_obs[N];              // obs times\n",
    "    real<lower = 0> y[N];       // observed variable at measurement times\n",
    "    real sigma;\n",
    "}\n",
    "parameters {\n",
    "    real<lower=0,upper=1> theta[2];      // parameters\n",
    "    real<lower=0> x0[1];\n",
    "}\n",
    "transformed parameters {\n",
    "    real x[N,1] = integrate_ode_rk45(P_growth, x0, -1, t_obs, theta,\n",
    "                                      rep_array(0.0, 0), rep_array(0, 0),\n",
    "                                      1e-6, 1e-5, 1e3);\n",
    "}\n",
    "model {\n",
    "    //theta[1] ~ normal(0.1, 2);\n",
    "    //theta[2] ~ normal(0.1, 2);\n",
    "    x0       ~ normal(1.0, 10);\n",
    "    y[1:N]   ~ normal(x[1:N,1], sigma); // obs\n",
    "}'''"
   ]
  },
  {
   "cell_type": "markdown",
   "metadata": {},
   "source": [
    "Compile the model"
   ]
  },
  {
   "cell_type": "code",
   "execution_count": 8,
   "metadata": {},
   "outputs": [
    {
     "name": "stderr",
     "output_type": "stream",
     "text": [
      "INFO:pystan:COMPILING THE C++ CODE FOR MODEL anon_model_ea360eb5f1a28e4796859a23d4ec00b6 NOW.\n"
     ]
    }
   ],
   "source": [
    "import pystan\n",
    "\n",
    "mod = pystan.StanModel(model_code=stan_code)"
   ]
  },
  {
   "cell_type": "markdown",
   "metadata": {},
   "source": [
    "Organize the data for Stan. \n",
    "Note that we are now passing the error standard deviation to Stan, instead of estimating it, and so appears in the `data` block and not the `parameter` block. \n",
    "\n",
    "Perform sampling"
   ]
  },
  {
   "cell_type": "code",
   "execution_count": 9,
   "metadata": {},
   "outputs": [
    {
     "name": "stdout",
     "output_type": "stream",
     "text": [
      "Inference for Stan model: anon_model_ea360eb5f1a28e4796859a23d4ec00b6.\n",
      "4 chains, each with iter=2000; warmup=1000; thin=1; \n",
      "post-warmup draws per chain=1000, total post-warmup draws=4000.\n",
      "\n",
      "           mean se_mean     sd   2.5%    25%    50%    75%  97.5%  n_eff   Rhat\n",
      "theta[1]   0.27  1.7e-3   0.05   0.19   0.24   0.27    0.3   0.37    724   1.01\n",
      "theta[2]   0.11  7.5e-4   0.02   0.07   0.09    0.1   0.12   0.15    734   1.01\n",
      "x0[1]       0.9  3.3e-3   0.09   0.72   0.83    0.9   0.97   1.08    822   1.01\n",
      "x[1,1]     1.06  2.6e-3   0.08    0.9    1.0   1.06   1.11   1.21    927    1.0\n",
      "x[2,1]      1.4  1.2e-3   0.05   1.29   1.36    1.4   1.44    1.5   2076    1.0\n",
      "x[3,1]     1.56  1.0e-3   0.05   1.46   1.53   1.56    1.6   1.66   2638    1.0\n",
      "x[4,1]     1.86  1.6e-3   0.06   1.75   1.82   1.86    1.9   1.98   1346    1.0\n",
      "x[5,1]     2.18  1.7e-3   0.06   2.06   2.14   2.18   2.22    2.3   1222    1.0\n",
      "x[6,1]      2.4  8.9e-4   0.05    2.3   2.37    2.4   2.43    2.5   3144    1.0\n",
      "x[7,1]     2.48  9.2e-4   0.05   2.37   2.44   2.48   2.51   2.58   3538    1.0\n",
      "x[8,1]     2.54  1.9e-3   0.07    2.4   2.49   2.54   2.58   2.68   1533    1.0\n",
      "lp__      -6.83    0.04   1.21  -9.93  -7.37  -6.51  -5.96  -5.46   1145    1.0\n",
      "\n",
      "Samples were drawn using NUTS at Sat Dec 21 18:10:53 2019.\n",
      "For each parameter, n_eff is a crude measure of effective sample size,\n",
      "and Rhat is the potential scale reduction factor on split chains (at \n",
      "convergence, Rhat=1).\n"
     ]
    }
   ],
   "source": [
    "data = {\n",
    "    'N':len(t_obs),\n",
    "    't_obs':t_obs,\n",
    "    'y':obs,\n",
    "    'sigma':0.1,\n",
    "}\n",
    "\n",
    "# can use chains=multiprocessing.cpu_count() to explicitly set number of chains to number of CPUs\n",
    "mcmc = mod.sampling(data=data)\n",
    "print(mcmc)"
   ]
  },
  {
   "cell_type": "code",
   "execution_count": 10,
   "metadata": {},
   "outputs": [
    {
     "data": {
      "text/plain": [
       "['theta[1]',\n",
       " 'theta[2]',\n",
       " 'x0[1]',\n",
       " 'x[1,1]',\n",
       " 'x[2,1]',\n",
       " 'x[3,1]',\n",
       " 'x[4,1]',\n",
       " 'x[5,1]',\n",
       " 'x[6,1]',\n",
       " 'x[7,1]',\n",
       " 'x[8,1]']"
      ]
     },
     "execution_count": 10,
     "metadata": {},
     "output_type": "execute_result"
    }
   ],
   "source": [
    "mcmc.flatnames"
   ]
  },
  {
   "cell_type": "markdown",
   "metadata": {},
   "source": [
    "Notice the dimensions of the variables.\n",
    "mcmc samples are always the first dimension."
   ]
  },
  {
   "cell_type": "code",
   "execution_count": 11,
   "metadata": {},
   "outputs": [
    {
     "name": "stdout",
     "output_type": "stream",
     "text": [
      "shape of theta: (4000, 2)\n",
      "shape of x0: (4000, 1)\n",
      "shape of x: (4000, 8, 1)\n",
      "shape of x[1,1]: (4000,)\n"
     ]
    }
   ],
   "source": [
    "for name in 'theta','x0','x','x[1,1]':\n",
    "    print('shape of {}: {}'.format(name, mcmc[name].shape))"
   ]
  },
  {
   "cell_type": "markdown",
   "metadata": {},
   "source": [
    "Plot the posterior marginal distributions via histograms."
   ]
  },
  {
   "cell_type": "code",
   "execution_count": 12,
   "metadata": {},
   "outputs": [
    {
     "data": {
      "image/png": "[encoded data removed]",
      "text/plain": [
       "<matplotlib.figure.Figure at 0x7f40b390a208>"
      ]
     },
     "metadata": {
      "needs_background": "light"
     },
     "output_type": "display_data"
    }
   ],
   "source": [
    "param_names = {'theta[1]':'gamma', 'theta[2]':'lambda', 'x0':'x0'}\n",
    "\n",
    "fig, axs = plt.subplots(ncols=3)\n",
    "for ax, name in zip(axs.flat,('theta[1]','theta[2]','x0')):\n",
    "    ax.hist(mcmc[name])\n",
    "    ax.set(xlabel=param_names[name], ylabel='frequency')"
   ]
  },
  {
   "cell_type": "markdown",
   "metadata": {},
   "source": [
    "Plot the joint distribution."
   ]
  },
  {
   "cell_type": "code",
   "execution_count": 13,
   "metadata": {},
   "outputs": [
    {
     "data": {
      "text/plain": [
       "[Text(0,0.5,'lambda'), Text(0.5,0,'gamma')]"
      ]
     },
     "execution_count": 13,
     "metadata": {},
     "output_type": "execute_result"
    },
    {
     "data": {
      "image/png": "[encoded data removed]",
      "text/plain": [
       "<matplotlib.figure.Figure at 0x7f40b38ca860>"
      ]
     },
     "metadata": {
      "needs_background": "light"
     },
     "output_type": "display_data"
    }
   ],
   "source": [
    "fig, ax = plt.subplots()\n",
    "ax.scatter(mcmc['theta[1]'], mcmc['theta[2]'], alpha=0.5)\n",
    "ax.set(xlabel=param_names['theta[1]'], ylabel=param_names['theta[2]'])"
   ]
  },
  {
   "cell_type": "markdown",
   "metadata": {},
   "source": [
    "## Periodic P Growth\n",
    "We will extend the model to include sinusoidal growth\n",
    "\n",
    "$$ \\frac{dP}{dt} = \\gamma\\left(1+\\sin (\\omega t)\\right) P - \\lambda P^2  $$"
   ]
  },
  {
   "cell_type": "markdown",
   "metadata": {},
   "source": [
    "Specify parameters for synthetic data."
   ]
  },
  {
   "cell_type": "code",
   "execution_count": 14,
   "metadata": {},
   "outputs": [],
   "source": [
    "theta_sin = (0.25, 0.1) \n",
    "P0 = 2.5\n",
    "T_sin = 365*4\n",
    "dt_sin = 1.0\n",
    "t_sin = np.arange(0,T_sin+dt_sin,dt_sin)"
   ]
  },
  {
   "cell_type": "markdown",
   "metadata": {},
   "source": [
    "Definte function to simulate data"
   ]
  },
  {
   "cell_type": "code",
   "execution_count": 15,
   "metadata": {},
   "outputs": [],
   "source": [
    "def dxdt_sin(P, t, γ, λ, omega=np.pi/180.0):\n",
    "    return γ*(1+np.sin(omega*t))*P - λ*P**2"
   ]
  },
  {
   "cell_type": "markdown",
   "metadata": {},
   "source": [
    "Solve ODE using ODE package"
   ]
  },
  {
   "cell_type": "code",
   "execution_count": 16,
   "metadata": {},
   "outputs": [],
   "source": [
    "x_sin = odeint(dxdt_sin, P0, t_sin, args=theta_sin)[:,0]"
   ]
  },
  {
   "cell_type": "markdown",
   "metadata": {},
   "source": [
    "Plot solution"
   ]
  },
  {
   "cell_type": "code",
   "execution_count": 17,
   "metadata": {},
   "outputs": [
    {
     "data": {
      "image/png": "[encoded data removed]",
      "text/plain": [
       "<matplotlib.figure.Figure at 0x7f40b49c3080>"
      ]
     },
     "metadata": {
      "needs_background": "light"
     },
     "output_type": "display_data"
    }
   ],
   "source": [
    "fig, ax = plt.subplots()\n",
    "ax.plot(t_sin,x_sin)\n",
    "ax.set(xlabel='time', ylabel='P')\n",
    "None"
   ]
  },
  {
   "cell_type": "markdown",
   "metadata": {},
   "source": [
    "Choose random time points to sample the solution.\n",
    "Make sure the observations aren't negative after adding random observational noise.\n",
    "\n",
    "Plot the synthetic observations."
   ]
  },
  {
   "cell_type": "code",
   "execution_count": 18,
   "metadata": {},
   "outputs": [
    {
     "data": {
      "image/png": "[encoded data removed]",
      "text/plain": [
       "<matplotlib.figure.Figure at 0x7f40b3dc4ba8>"
      ]
     },
     "metadata": {
      "needs_background": "light"
     },
     "output_type": "display_data"
    }
   ],
   "source": [
    "t_obs_ind_sin = np.random.choice(t_sin.size, size=50, replace=False)\n",
    "t_obs_ind_sin.sort()\n",
    "\n",
    "obs_sin = np.maximum(0.0, x_sin[t_obs_ind_sin] + np.random.normal(size=t_obs_ind_sin.size, scale=0.5))\n",
    "t_obs_sin = t_sin[t_obs_ind_sin]\n",
    "\n",
    "fig, ax = plt.subplots()\n",
    "ax.plot(t_obs_sin, obs_sin, marker='o', linestyle='none')\n",
    "ax.set(xlabel='time', ylabel='P observations')\n",
    "None"
   ]
  },
  {
   "cell_type": "markdown",
   "metadata": {},
   "source": [
    "The Stan code below implements the modified model. \n",
    "Notice the `growth` calculation where we calculate the sinusoidal component via the model variable `t`. "
   ]
  },
  {
   "cell_type": "code",
   "execution_count": 19,
   "metadata": {},
   "outputs": [],
   "source": [
    "stan_code_sin = '''functions {\n",
    "   real[] P_growth(real t,       // time\n",
    "                   real[] x,      // state\n",
    "                   real[] theta, // parameters\n",
    "                   real[] x_r,   // environmental data\n",
    "                   int[] x_i){\n",
    "    real gamma  = theta[1];\n",
    "    real lambda = theta[2];\n",
    "    //real a      = theta[3];\n",
    "\n",
    "    real growth = gamma*x[1] + gamma*sin(2*pi()*(1.0/365.0)*t)*x[1];\n",
    "    real loss   = lambda*x[1]*x[1];\n",
    "    \n",
    "    return {growth - loss};\n",
    "  }\n",
    "}\n",
    "data {\n",
    "    int<lower = 0> N;           // num obs\n",
    "    real<lower = 0> t_obs[N];              // obs times\n",
    "    real<lower = 0> y[N];       // observed variable at measurement times\n",
    "    //real<lower = 0> sigma;\n",
    "}\n",
    "parameters {\n",
    "    real<lower=0> theta[2];      // parameters\n",
    "    real<lower=0> x0[1];\n",
    "    real<lower=1E-15> sigma;\n",
    "}\n",
    "transformed parameters {\n",
    "    real<lower=0> x[N,1] = integrate_ode_rk45(P_growth, x0, 1, t_obs, theta,\n",
    "                                      rep_array(0.0, 0), rep_array(0, 0),\n",
    "                                      1e-6, 1e-6, 1e5);\n",
    "}\n",
    "model {\n",
    "    theta[1] ~ normal(0.1, 1);\n",
    "    theta[2] ~ normal(0.1, 1);\n",
    "    //theta[3] ~ normal(0.01,1);\n",
    "    x0       ~ normal(1.0, 10);\n",
    "    y[1:N]   ~ normal(x[1:N,1], sigma); // obs\n",
    "}'''"
   ]
  },
  {
   "cell_type": "markdown",
   "metadata": {},
   "source": [
    "Compile the Stan code."
   ]
  },
  {
   "cell_type": "code",
   "execution_count": 20,
   "metadata": {},
   "outputs": [
    {
     "name": "stderr",
     "output_type": "stream",
     "text": [
      "INFO:pystan:COMPILING THE C++ CODE FOR MODEL anon_model_98d62ad6a627b183f4ad66625af74e0d NOW.\n"
     ]
    }
   ],
   "source": [
    "mod_sin = pystan.StanModel(model_code=stan_code_sin)"
   ]
  },
  {
   "cell_type": "markdown",
   "metadata": {},
   "source": [
    "Organize the data\n",
    "\n",
    "Perform mcmc sampling"
   ]
  },
  {
   "cell_type": "code",
   "execution_count": 21,
   "metadata": {},
   "outputs": [
    {
     "name": "stdout",
     "output_type": "stream",
     "text": [
      "Inference for Stan model: anon_model_98d62ad6a627b183f4ad66625af74e0d.\n",
      "4 chains, each with iter=2000; warmup=1000; thin=1; \n",
      "post-warmup draws per chain=1000, total post-warmup draws=4000.\n",
      "\n",
      "           mean se_mean     sd   2.5%    25%    50%    75%  97.5%  n_eff   Rhat\n",
      "theta[1]   1.27    0.02   0.55   0.46   0.85   1.19   1.59   2.57    995   1.01\n",
      "theta[2]   0.51  7.0e-3   0.22   0.18   0.34   0.48   0.64   1.03    999   1.01\n",
      "x0[1]      8.31    0.14   6.37   0.38   3.21   7.04  11.98  23.58   2217    1.0\n",
      "sigma      0.53  1.3e-3   0.06   0.43   0.49   0.52   0.56   0.65   1854    1.0\n",
      "x[1,1]     2.98  1.3e-3   0.08   2.82   2.93   2.98   3.03   3.14   3934    1.0\n",
      "x[2,1]     3.68  1.5e-3    0.1   3.48   3.61   3.68   3.74   3.88   4084    1.0\n",
      "x[3,1]     3.79  1.6e-3    0.1   3.59   3.73   3.79   3.85   3.99   4093    1.0\n",
      "x[4,1]     4.39  1.8e-3   0.11   4.16   4.31   4.39   4.46   4.62   4117    1.0\n",
      "x[5,1]     4.97  2.0e-3   0.13   4.71   4.88   4.97   5.05   5.23   4097    1.0\n",
      "x[6,1]     3.56  1.5e-3   0.09   3.37   3.49   3.55   3.61   3.74   3927    1.0\n",
      "x[7,1]      2.1  1.2e-3   0.06   1.99   2.06    2.1   2.14   2.23   2601    1.0\n",
      "x[8,1]     1.77  1.1e-3   0.05   1.68   1.74   1.77   1.81   1.89   2211    1.0\n",
      "x[9,1]     0.32  1.4e-3   0.04   0.26   0.29   0.31   0.34   0.42    894   1.01\n",
      "x[10,1]     0.2  1.3e-3   0.04   0.15   0.17   0.19   0.22   0.29    878   1.01\n",
      "x[11,1]    0.48  3.1e-3   0.09   0.29    0.4   0.49   0.56   0.62    924   1.01\n",
      "x[12,1]    1.02  2.6e-3   0.08   0.78   0.99   1.04   1.07   1.11   1016   1.01\n",
      "x[13,1]    1.18  2.1e-3   0.07   0.98   1.15   1.19   1.22   1.27   1100   1.01\n",
      "x[14,1]     1.3  1.8e-3   0.06   1.14   1.27   1.31   1.34    1.4   1212   1.01\n",
      "x[15,1]    4.08  1.7e-3   0.11   3.86   4.01   4.08   4.14   4.29   4108    1.0\n",
      "x[16,1]    4.33  1.8e-3   0.11    4.1   4.26   4.33    4.4   4.56   4116    1.0\n",
      "x[17,1]    4.97  2.0e-3   0.13   4.71   4.89   4.97   5.06   5.24   4111    1.0\n",
      "x[18,1]    4.78  2.0e-3   0.13   4.53   4.69   4.78   4.85   5.03   4080    1.0\n",
      "x[19,1]    4.06  1.7e-3   0.11   3.85   3.99   4.06   4.13   4.28   4019    1.0\n",
      "x[20,1]    3.71  1.6e-3    0.1   3.51   3.64   3.71   3.77    3.9   3974    1.0\n",
      "x[21,1]    3.11  1.4e-3   0.08   2.95   3.06   3.11   3.17   3.28   3584    1.0\n",
      "x[22,1]    1.73  1.1e-3   0.05   1.64    1.7   1.73   1.77   1.85   2162    1.0\n",
      "x[23,1]    1.58  1.1e-3   0.05   1.49   1.54   1.57   1.61   1.68   1967    1.0\n",
      "x[24,1]    0.51  1.3e-3   0.04   0.45   0.48    0.5   0.53   0.61    946   1.01\n",
      "x[25,1]    0.34  1.4e-3   0.04   0.28   0.31   0.33   0.36   0.43    897   1.01\n",
      "x[26,1]    0.38  2.7e-3   0.08   0.24   0.31   0.38   0.45   0.52    952   1.01\n",
      "x[27,1]     0.7  3.3e-3    0.1   0.45   0.64   0.73   0.77   0.82    933   1.01\n",
      "x[28,1]     1.3  1.8e-3   0.06   1.14   1.27   1.31   1.34    1.4   1212   1.01\n",
      "x[29,1]    1.34  1.8e-3   0.06   1.19   1.31   1.35   1.38   1.44   1262   1.01\n",
      "x[30,1]    2.85  1.2e-3   0.08    2.7    2.8   2.85    2.9   3.01   3886    1.0\n",
      "x[31,1]    3.83  1.6e-3    0.1   3.63   3.76   3.83   3.89   4.03   4096    1.0\n",
      "x[32,1]    4.04  1.6e-3   0.11   3.83   3.97   4.04   4.11   4.26   4107    1.0\n",
      "x[33,1]    4.74  1.9e-3   0.12   4.49   4.66   4.74   4.82   4.99   4077    1.0\n",
      "x[34,1]    4.61  1.9e-3   0.12   4.37   4.53   4.61   4.69   4.85   4068    1.0\n",
      "x[35,1]    2.52  1.3e-3   0.07   2.39   2.48   2.52   2.57   2.66   3044    1.0\n",
      "x[36,1]    1.42  1.1e-3   0.05   1.34   1.39   1.42   1.45   1.53   1782    1.0\n",
      "x[37,1]    0.25  1.3e-3   0.04   0.19   0.22   0.24   0.27   0.34    883   1.01\n",
      "x[38,1]    0.16  1.2e-3   0.04   0.11   0.14   0.16   0.18   0.25    874   1.01\n",
      "x[39,1]    0.98  2.7e-3   0.08   0.73   0.95    1.0   1.03   1.08   1003   1.01\n",
      "x[40,1]     2.5  1.2e-3   0.07   2.37   2.46    2.5   2.55   2.64   3428    1.0\n",
      "x[41,1]    3.48  1.4e-3   0.09    3.3   3.42   3.48   3.54   3.67   4063    1.0\n",
      "x[42,1]    4.36  1.8e-3   0.11   4.13   4.28   4.36   4.43   4.59   4116    1.0\n",
      "x[43,1]    4.89  2.0e-3   0.13   4.64   4.81   4.89   4.97   5.15   4115    1.0\n",
      "x[44,1]    1.31  1.1e-3   0.05   1.23   1.28   1.31   1.34   1.42   1654    1.0\n",
      "x[45,1]    0.32  1.4e-3   0.04   0.26   0.29   0.31   0.34   0.42    894   1.01\n",
      "x[46,1]    0.21  1.3e-3   0.04   0.16   0.18   0.21   0.23   0.31    879   1.01\n",
      "x[47,1]    0.08  5.3e-4   0.02   0.07   0.07   0.08   0.09   0.12    907   1.01\n",
      "x[48,1]    0.18  8.8e-4   0.03   0.15   0.16   0.17    0.2   0.26   1231   1.01\n",
      "x[49,1]     1.3  1.8e-3   0.06   1.14   1.27   1.31   1.34    1.4   1212   1.01\n",
      "x[50,1]    1.81  1.2e-3   0.06   1.69   1.77   1.81   1.84   1.91   2182    1.0\n",
      "lp__       6.44    0.04   1.49    2.7   5.66   6.75   7.56   8.32   1147    1.0\n",
      "\n",
      "Samples were drawn using NUTS at Sat Dec 21 18:30:07 2019.\n",
      "For each parameter, n_eff is a crude measure of effective sample size,\n",
      "and Rhat is the potential scale reduction factor on split chains (at \n",
      "convergence, Rhat=1).\n"
     ]
    }
   ],
   "source": [
    "data_sin = {\n",
    "    'N':len(t_obs_sin),\n",
    "    't_obs':t_obs_sin,\n",
    "    'y':obs_sin,\n",
    "}\n",
    "\n",
    "mcmc_sin = mod_sin.sampling(data=data_sin, iter=2000, chains=4)\n",
    "print(mcmc_sin)"
   ]
  },
  {
   "cell_type": "markdown",
   "metadata": {},
   "source": [
    "Plot the histograms"
   ]
  },
  {
   "cell_type": "code",
   "execution_count": 22,
   "metadata": {},
   "outputs": [
    {
     "data": {
      "image/png": "[encoded data removed]",
      "text/plain": [
       "<matplotlib.figure.Figure at 0x7f40b0e8acc0>"
      ]
     },
     "metadata": {
      "needs_background": "light"
     },
     "output_type": "display_data"
    }
   ],
   "source": [
    "fig, axs = plt.subplots(ncols=3)\n",
    "for ax, name in zip(axs.flat,('theta[1]','theta[2]','x0')):\n",
    "    ax.hist(mcmc_sin[name])\n",
    "    ax.set(xlabel=param_names[name], ylabel='frequency')\n",
    "None"
   ]
  },
  {
   "cell_type": "markdown",
   "metadata": {},
   "source": [
    "Plot the joint distribution"
   ]
  },
  {
   "cell_type": "code",
   "execution_count": 23,
   "metadata": {
    "scrolled": true
   },
   "outputs": [
    {
     "data": {
      "image/png": "[encoded data removed]",
      "text/plain": [
       "<matplotlib.figure.Figure at 0x7f40b0f9e828>"
      ]
     },
     "metadata": {
      "needs_background": "light"
     },
     "output_type": "display_data"
    }
   ],
   "source": [
    "fig, ax = plt.subplots()\n",
    "ax.scatter(mcmc_sin['theta[1]'], mcmc_sin['theta[2]'], alpha=0.5)\n",
    "ax.set(xlabel=param_names['theta[1]'], ylabel=param_names['theta[2]'])\n",
    "None"
   ]
  },
  {
   "cell_type": "markdown",
   "metadata": {},
   "source": [
    "Calculate the mean and standard deviation of the fitted `x`s and plot them."
   ]
  },
  {
   "cell_type": "code",
   "execution_count": 24,
   "metadata": {},
   "outputs": [
    {
     "data": {
      "text/plain": [
       "<matplotlib.collections.PathCollection at 0x7f40b107fa58>"
      ]
     },
     "execution_count": 24,
     "metadata": {},
     "output_type": "execute_result"
    },
    {
     "data": {
      "image/png": "[encoded data removed]",
      "text/plain": [
       "<matplotlib.figure.Figure at 0x7f40b0ecfc50>"
      ]
     },
     "metadata": {
      "needs_background": "light"
     },
     "output_type": "display_data"
    }
   ],
   "source": [
    "mu = np.mean(mcmc_sin['x'][:,:,0], axis=0)\n",
    "std = np.std(mcmc_sin['x'][:,:,0], axis=0)\n",
    "\n",
    "fig, ax = plt.subplots()\n",
    "ax.fill_between(t_obs_sin, y1=mu-std, y2=mu+std, alpha=0.5)\n",
    "ax.plot(t_obs_sin, mu)\n",
    "ax.scatter(t_obs_sin, obs_sin)"
   ]
  }
 ],
 "metadata": {
  "kernelspec": {
   "display_name": "Python 3",
   "language": "python",
   "name": "python3"
  },
  "language_info": {
   "codemirror_mode": {
    "name": "ipython",
    "version": 3
   },
   "file_extension": ".py",
   "mimetype": "text/x-python",
   "name": "python",
   "nbconvert_exporter": "python",
   "pygments_lexer": "ipython3",
   "version": "3.7.4"
  }
 },
 "nbformat": 4,
 "nbformat_minor": 2
}
